{
 "cells": [
  {
   "cell_type": "markdown",
   "metadata": {},
   "source": [
    "# **Module 2 Homework**"
   ]
  },
  {
   "cell_type": "markdown",
   "metadata": {},
   "source": [
    "In this homework, we're going to combine data from various sources to process it in Pandas and generate additional fields.\n",
    "\n",
    "---"
   ]
  },
  {
   "cell_type": "markdown",
   "metadata": {},
   "source": [
    "## **Install**\n"
   ]
  },
  {
   "cell_type": "code",
   "execution_count": 28,
   "metadata": {},
   "outputs": [],
   "source": [
    "# !pip install yfinance\n",
    "# !pip install pandas_datareader\n",
    "# !pip install pyarrow\n",
    "# !pip install fastparquet"
   ]
  },
  {
   "cell_type": "markdown",
   "metadata": {},
   "source": [
    "## **Imports**"
   ]
  },
  {
   "cell_type": "code",
   "execution_count": 1,
   "metadata": {},
   "outputs": [],
   "source": [
    "import numpy as np\n",
    "import pandas as pd\n",
    "import yfinance as yf\n",
    "import pandas_datareader as pdr\n",
    "import plotly.graph_objs as go\n",
    "import plotly.express as px\n",
    "import time\n",
    "from datetime import date\n",
    "import matplotlib.pyplot as plt\n",
    "import requests"
   ]
  },
  {
   "cell_type": "markdown",
   "metadata": {},
   "source": [
    "---\n",
    "## **Question 1: IPO Filings Web Scraping and Data Processing**  \n",
    "\n",
    "**What's the total sum ($m) of 2023 filings that happened on Fridays?**  \n",
    "\n",
    "Re-use the [Code Snippet 1] example to get the data from web for this endpoint: https://stockanalysis.com/ipos/filings/  \n",
    "Convert the **'Filing Date'** to datetime(), **'Shares Offered'** to float64 (if **'-'** is encountered, populate with NaNs).  \n",
    "Define a new field **'Avg_price'** based on the **\"Price Range\"**, which equals to NaN if no price is specified, to the price (if only one number is provided), or to the average of 2 prices (if a range is given).  \n",
    "You may be inspired by the function `extract_numbers()` in [Code Snippet 4], or you can write your own function to \"parse\" a string.\n",
    "Define a column \"Shares_offered_value\", which equals to **\"Shares Offered\"** * **\"Avg_price\"*** (when both columns are defined; otherwise, it's NaN)  \n",
    "\n",
    "Find the total sum in $m (millions of USD, closest INTEGER number) for all filings during 2023, which happened on Fridays (`Date.dt.dayofweek()==4`).   \n",
    "You should see 32 records in total, 25 of it is not null.  \n",
    "\n",
    "(additional: you can read about [S-1 IPO filing](https://www.dfinsolutions.com/knowledge-hub/thought-leadership/knowledge-resources/what-s-1-ipo-filing) to understand the context)"
   ]
  },
  {
   "cell_type": "code",
   "execution_count": 2,
   "metadata": {},
   "outputs": [
    {
     "name": "stderr",
     "output_type": "stream",
     "text": [
      "/tmp/ipykernel_2181/2058199188.py:8: FutureWarning: Passing literal html to 'read_html' is deprecated and will be removed in a future version. To read from a literal string, wrap it in a 'StringIO' object.\n",
      "  ipo_dfs = pd.read_html(response.text)\n"
     ]
    },
    {
     "data": {
      "text/html": [
       "<div>\n",
       "<style scoped>\n",
       "    .dataframe tbody tr th:only-of-type {\n",
       "        vertical-align: middle;\n",
       "    }\n",
       "\n",
       "    .dataframe tbody tr th {\n",
       "        vertical-align: top;\n",
       "    }\n",
       "\n",
       "    .dataframe thead th {\n",
       "        text-align: right;\n",
       "    }\n",
       "</style>\n",
       "<table border=\"1\" class=\"dataframe\">\n",
       "  <thead>\n",
       "    <tr style=\"text-align: right;\">\n",
       "      <th></th>\n",
       "      <th>Filing Date</th>\n",
       "      <th>Symbol</th>\n",
       "      <th>Company Name</th>\n",
       "      <th>Price Range</th>\n",
       "      <th>Shares Offered</th>\n",
       "    </tr>\n",
       "  </thead>\n",
       "  <tbody>\n",
       "    <tr>\n",
       "      <th>0</th>\n",
       "      <td>2024-05-03</td>\n",
       "      <td>TBN</td>\n",
       "      <td>Tamboran Resources Corporation</td>\n",
       "      <td>-</td>\n",
       "      <td>-</td>\n",
       "    </tr>\n",
       "    <tr>\n",
       "      <th>1</th>\n",
       "      <td>2024-04-29</td>\n",
       "      <td>HWEC</td>\n",
       "      <td>HW Electro Co., Ltd.</td>\n",
       "      <td>$3.00</td>\n",
       "      <td>3750000</td>\n",
       "    </tr>\n",
       "    <tr>\n",
       "      <th>2</th>\n",
       "      <td>2024-04-29</td>\n",
       "      <td>DTSQ</td>\n",
       "      <td>DT Cloud Star Acquisition Corporation</td>\n",
       "      <td>$10.00</td>\n",
       "      <td>6000000</td>\n",
       "    </tr>\n",
       "    <tr>\n",
       "      <th>3</th>\n",
       "      <td>2024-04-26</td>\n",
       "      <td>EURK</td>\n",
       "      <td>Eureka Acquisition Corp</td>\n",
       "      <td>$10.00</td>\n",
       "      <td>5000000</td>\n",
       "    </tr>\n",
       "    <tr>\n",
       "      <th>4</th>\n",
       "      <td>2024-04-26</td>\n",
       "      <td>HDL</td>\n",
       "      <td>Super Hi International Holding Ltd.</td>\n",
       "      <td>-</td>\n",
       "      <td>-</td>\n",
       "    </tr>\n",
       "  </tbody>\n",
       "</table>\n",
       "</div>"
      ],
      "text/plain": [
       "  Filing Date Symbol                           Company Name Price Range  \\\n",
       "0  2024-05-03    TBN         Tamboran Resources Corporation           -   \n",
       "1  2024-04-29   HWEC                   HW Electro Co., Ltd.       $3.00   \n",
       "2  2024-04-29   DTSQ  DT Cloud Star Acquisition Corporation      $10.00   \n",
       "3  2024-04-26   EURK                Eureka Acquisition Corp      $10.00   \n",
       "4  2024-04-26    HDL    Super Hi International Holding Ltd.           -   \n",
       "\n",
       "  Shares Offered  \n",
       "0              -  \n",
       "1        3750000  \n",
       "2        6000000  \n",
       "3        5000000  \n",
       "4              -  "
      ]
     },
     "execution_count": 2,
     "metadata": {},
     "output_type": "execute_result"
    }
   ],
   "source": [
    "headers = {\n",
    "    'User-Agent': 'Mozilla/5.0 (Windows NT 10.0; Win64; x64) AppleWebKit/537.36 (KHTML, like Gecko) Chrome/58.0.3029.110 Safari/537.3',\n",
    "}\n",
    "\n",
    "url = \"https://stockanalysis.com/ipos/filings/\"\n",
    "response = requests.get(url, headers=headers)\n",
    "\n",
    "ipo_dfs = pd.read_html(response.text)\n",
    "     \n",
    "ipo_df = ipo_dfs[0]\n",
    "     \n",
    "# Convert the 'Filing Date' to datetime()\n",
    "ipo_df['Filing Date'] = pd.to_datetime(ipo_df['Filing Date'], format='mixed')\n",
    "ipo_df.head()"
   ]
  },
  {
   "cell_type": "code",
   "execution_count": 3,
   "metadata": {},
   "outputs": [
    {
     "data": {
      "text/plain": [
       "Filing Date       datetime64[ns]\n",
       "Symbol                    object\n",
       "Company Name              object\n",
       "Price Range               object\n",
       "Shares Offered           float64\n",
       "dtype: object"
      ]
     },
     "execution_count": 3,
     "metadata": {},
     "output_type": "execute_result"
    }
   ],
   "source": [
    "# Convert 'Shares Offered' to float64 (if '-' is encountered, populate with NaNs)\n",
    "ipo_df['Shares Offered'] = ipo_df['Shares Offered'].replace('-', np.NaN).astype('float64')\n",
    "     \n",
    "\n",
    "ipo_df.dtypes"
   ]
  },
  {
   "cell_type": "code",
   "execution_count": 4,
   "metadata": {},
   "outputs": [
    {
     "data": {
      "text/plain": [
       "0        NaN\n",
       "1       3.00\n",
       "2      10.00\n",
       "3      10.00\n",
       "4        NaN\n",
       "       ...  \n",
       "321     9.00\n",
       "322    10.00\n",
       "323     9.00\n",
       "324     4.00\n",
       "325     5.75\n",
       "Name: Avg_price, Length: 326, dtype: float64"
      ]
     },
     "execution_count": 4,
     "metadata": {},
     "output_type": "execute_result"
    }
   ],
   "source": [
    "# Define a new field 'Avg_price' based on the \"Price Range\",\n",
    "# which equals to NaN if no price is specified,\n",
    "# to the price (if only one number is provided),\n",
    "# or to the average of 2 prices (if a range is given)\n",
    "\n",
    "def calc_avg_price(price_range):\n",
    "    if price_range == '-':\n",
    "        return np.NaN\n",
    "    elif price_range.find(' - ') == -1:\n",
    "        return float(price_range[price_range.find('$')+1:])\n",
    "    else:\n",
    "        first_num = float(price_range[price_range.find('$')+1:price_range.find(' ')])\n",
    "        second_num = float(price_range[price_range.rfind('$') + 1:])\n",
    "        return (first_num + second_num) / 2\n",
    "    \n",
    "\n",
    "ipo_df['Avg_price'] = ipo_df['Price Range'].apply(lambda x: calc_avg_price(x))\n",
    "ipo_df['Avg_price']"
   ]
  },
  {
   "cell_type": "code",
   "execution_count": 5,
   "metadata": {},
   "outputs": [
    {
     "data": {
      "text/plain": [
       "0             NaN\n",
       "1      11250000.0\n",
       "2      60000000.0\n",
       "3      50000000.0\n",
       "4             NaN\n",
       "          ...    \n",
       "321    13500000.0\n",
       "322    50000000.0\n",
       "323    22500000.0\n",
       "324    17200000.0\n",
       "325    11500000.0\n",
       "Name: Shares_offered_value, Length: 326, dtype: float64"
      ]
     },
     "execution_count": 5,
     "metadata": {},
     "output_type": "execute_result"
    }
   ],
   "source": [
    "# Define a column \"Shares_offered_value\",\n",
    "# which equals to \"Shares Offered\" * \"Avg_price\"\n",
    "# (when both columns are defined; otherwise, it's NaN)\n",
    "\n",
    "ipo_df['Shares_offered_value'] = ipo_df['Shares Offered'] * ipo_df['Avg_price']\n",
    "ipo_df['Shares_offered_value']"
   ]
  },
  {
   "cell_type": "code",
   "execution_count": 6,
   "metadata": {},
   "outputs": [
    {
     "name": "stdout",
     "output_type": "stream",
     "text": [
      "<class 'pandas.core.frame.DataFrame'>\n",
      "Index: 32 entries, 50 to 166\n",
      "Data columns (total 7 columns):\n",
      " #   Column                Non-Null Count  Dtype         \n",
      "---  ------                --------------  -----         \n",
      " 0   Filing Date           32 non-null     datetime64[ns]\n",
      " 1   Symbol                32 non-null     object        \n",
      " 2   Company Name          32 non-null     object        \n",
      " 3   Price Range           32 non-null     object        \n",
      " 4   Shares Offered        25 non-null     float64       \n",
      " 5   Avg_price             25 non-null     float64       \n",
      " 6   Shares_offered_value  25 non-null     float64       \n",
      "dtypes: datetime64[ns](1), float64(3), object(3)\n",
      "memory usage: 2.0+ KB\n"
     ]
    }
   ],
   "source": [
    "\n",
    "# Find the total sum in $m (millions of USD, closest INTEGER number)\n",
    "# for all fillings during 2023, which happened on Fridays (Date.dt.dayofweek()==4).\n",
    "# You should see 32 records in total, 24 of it is not null.\n",
    "     \n",
    "\n",
    "ipo_df_2023 = ipo_df[ipo_df['Filing Date'].dt.year == 2023]\n",
    "     \n",
    "\n",
    "ipo_df_2023_fri = ipo_df[(ipo_df['Filing Date'].dt.year == 2023) & (ipo_df['Filing Date'].dt.day_of_week == 4)]\n",
    "     \n",
    "\n",
    "ipo_df_2023_fri.info()"
   ]
  },
  {
   "cell_type": "code",
   "execution_count": 9,
   "metadata": {},
   "outputs": [
    {
     "data": {
      "text/plain": [
       "285.7"
      ]
     },
     "execution_count": 9,
     "metadata": {},
     "output_type": "execute_result"
    }
   ],
   "source": [
    "ipo_df_2023_fri.Shares_offered_value.sum() / 1000000"
   ]
  },
  {
   "cell_type": "markdown",
   "metadata": {},
   "source": [
    "---\n",
    "### **Question 2:  IPOs \"Fixed days hold\" strategy**\n",
    "\n",
    "\n",
    "**Find the optimal number of days X (between 1 and 30), where 75% quantile growth is the highest?**\n",
    "\n",
    "\n",
    "Reuse [Code Snippet 1] to retrieve the list of IPOs from 2023 and 2024 (from URLs: https://stockanalysis.com/ipos/2023/ and https://stockanalysis.com/ipos/2024/).   \n",
    "Get all OHLCV daily prices for all stocks with an **\"IPO date\"** before March 1, 2024 (\"< 2024-03-01\") - 184 tickers (without **'RYZB'**).   \n",
    "Please remove **'RYZB'**, as it is no longer available on Yahoo Finance.  \n",
    "\n",
    "Sometimes you may need to adjust the symbol name (e.g., **'IBAC'** on stockanalysis.com -> **'IBACU'** on Yahoo Finance) to locate OHLCV prices for all stocks.  \n",
    "Also, you can see the ticker changes using this [link](https://stockanalysis.com/actions/changes/).  \n",
    "Some of the tickers (like **'DYCQ'** and **'LEGT'**) were on the market less than 30 days (11 and 21 days, respectively). Let's leave them in the dataset; it just means that you couldn't hold them for more days than they were listed.  \n",
    "\n",
    "Let's assume you managed to buy a new stock (listed on IPO) on the first day at the [Adj Close] price]. Your strategy is to hold for exactly X full days (where X is between 1 and 30) and sell at the **\"Adj. Close\"** price in X days (e.g., if X=1, you sell on the next day).  \n",
    "Find X, when the 75% quantile growth (among 185 investments) is the highest.   \n",
    "\n",
    "HINTs:\n",
    "* You can generate 30 additional columns: growth_future_1d ... growth_future_30d, join that with the table of min_dates (first day when each stock has data on Yahoo   Finance), and perform vector operations on the resulting dataset.  \n",
    "* You can use the **`DataFrame.describe()`** function to get mean, min, max, 25-50-75% quantiles.  \n",
    "\n",
    "\n",
    "Additional: \n",
    "* You can also ensure that the mean and 50th percentile (median) investment returns are negative for most X values, implying a wager for a \"lucky\" investor who might be in the top 25%.  \n",
    "* What's your recommendation: Do you suggest pursuing this strategy for an optimal X?   "
   ]
  },
  {
   "cell_type": "code",
   "execution_count": null,
   "metadata": {},
   "outputs": [],
   "source": [
    "url_2023 = \"https://stockanalysis.com/ipos/2023/\"\n",
    "response_2023 = requests.get(url_2023, headers=headers)\n",
    "ipo_2023_dfs = pd.read_html(response_2023.text)\n",
    "ipos_2023 = ipo_2023_dfs[0]\n",
    "\n",
    "url_2024 = \"https://stockanalysis.com/ipos/2024/\"\n",
    "response_2024 = requests.get(url_2024, headers=headers)\n",
    "ipo_2024_dfs = pd.read_html(response_2024.text)\n",
    "ipos_2024 = ipo_2024_dfs[0]\n",
    "\n",
    "stacked_ipos_df = pd.concat([ipos_2024, ipos_2023], ignore_index=True)\n",
    "stacked_ipos_df['IPO Date'] = pd.to_datetime(stacked_ipos_df['IPO Date'], format='%b %d, %Y')\n",
    "stacked_ipos_df = stacked_ipos_df[stacked_ipos_df['IPO Date'] < \"2024-03-01\"]\n",
    "stacked_ipos_df = stacked_ipos_df[stacked_ipos_df['Symbol'] != \"RYZB\"]"
   ]
  },
  {
   "cell_type": "code",
   "execution_count": 11,
   "metadata": {},
   "outputs": [
    {
     "name": "stdout",
     "output_type": "stream",
     "text": [
      "0 SMXT\n"
     ]
    },
    {
     "name": "stderr",
     "output_type": "stream",
     "text": [
      "[*********************100%%**********************]  1 of 1 completed\n",
      "[*********************100%%**********************]  1 of 1 completed"
     ]
    },
    {
     "name": "stdout",
     "output_type": "stream",
     "text": [
      "1 VHAI\n"
     ]
    },
    {
     "name": "stderr",
     "output_type": "stream",
     "text": [
      "\n",
      "[*********************100%%**********************]  1 of 1 completed"
     ]
    },
    {
     "name": "stdout",
     "output_type": "stream",
     "text": [
      "2 DYCQ\n"
     ]
    },
    {
     "name": "stderr",
     "output_type": "stream",
     "text": [
      "\n",
      "[*********************100%%**********************]  1 of 1 completed"
     ]
    },
    {
     "name": "stdout",
     "output_type": "stream",
     "text": [
      "3 CHRO\n"
     ]
    },
    {
     "name": "stderr",
     "output_type": "stream",
     "text": [
      "\n",
      "[*********************100%%**********************]  1 of 1 completed"
     ]
    },
    {
     "name": "stdout",
     "output_type": "stream",
     "text": [
      "4 UMAC\n"
     ]
    },
    {
     "name": "stderr",
     "output_type": "stream",
     "text": [
      "\n",
      "[*********************100%%**********************]  1 of 1 completed"
     ]
    },
    {
     "name": "stdout",
     "output_type": "stream",
     "text": [
      "5 TBBB\n"
     ]
    },
    {
     "name": "stderr",
     "output_type": "stream",
     "text": [
      "\n",
      "[*********************100%%**********************]  1 of 1 completed"
     ]
    },
    {
     "name": "stdout",
     "output_type": "stream",
     "text": [
      "6 MGX\n"
     ]
    },
    {
     "name": "stderr",
     "output_type": "stream",
     "text": [
      "\n",
      "[*********************100%%**********************]  1 of 1 completed"
     ]
    },
    {
     "name": "stdout",
     "output_type": "stream",
     "text": [
      "7 HLXB\n"
     ]
    },
    {
     "name": "stderr",
     "output_type": "stream",
     "text": [
      "\n",
      "[*********************100%%**********************]  1 of 1 completed"
     ]
    },
    {
     "name": "stdout",
     "output_type": "stream",
     "text": [
      "8 TELO\n"
     ]
    },
    {
     "name": "stderr",
     "output_type": "stream",
     "text": [
      "\n",
      "[*********************100%%**********************]  1 of 1 completed"
     ]
    },
    {
     "name": "stdout",
     "output_type": "stream",
     "text": [
      "9 KYTX\n"
     ]
    },
    {
     "name": "stderr",
     "output_type": "stream",
     "text": [
      "\n",
      "[*********************100%%**********************]  1 of 1 completed"
     ]
    },
    {
     "name": "stdout",
     "output_type": "stream",
     "text": [
      "10 PMNT\n"
     ]
    },
    {
     "name": "stderr",
     "output_type": "stream",
     "text": [
      "\n",
      "[*********************100%%**********************]  1 of 1 completed"
     ]
    },
    {
     "name": "stdout",
     "output_type": "stream",
     "text": [
      "11 AHR\n"
     ]
    },
    {
     "name": "stderr",
     "output_type": "stream",
     "text": [
      "\n",
      "[*********************100%%**********************]  1 of 1 completed"
     ]
    },
    {
     "name": "stdout",
     "output_type": "stream",
     "text": [
      "12 LEGT\n"
     ]
    },
    {
     "name": "stderr",
     "output_type": "stream",
     "text": [
      "\n",
      "[*********************100%%**********************]  1 of 1 completed"
     ]
    },
    {
     "name": "stdout",
     "output_type": "stream",
     "text": [
      "13 ANRO\n"
     ]
    },
    {
     "name": "stderr",
     "output_type": "stream",
     "text": [
      "\n",
      "[*********************100%%**********************]  1 of 1 completed"
     ]
    },
    {
     "name": "stdout",
     "output_type": "stream",
     "text": [
      "14 GUTS\n"
     ]
    },
    {
     "name": "stderr",
     "output_type": "stream",
     "text": [
      "\n",
      "[*********************100%%**********************]  1 of 1 completed"
     ]
    },
    {
     "name": "stdout",
     "output_type": "stream",
     "text": [
      "15 AS\n"
     ]
    },
    {
     "name": "stderr",
     "output_type": "stream",
     "text": [
      "\n",
      "[*********************100%%**********************]  1 of 1 completed"
     ]
    },
    {
     "name": "stdout",
     "output_type": "stream",
     "text": [
      "16 FBLG\n"
     ]
    },
    {
     "name": "stderr",
     "output_type": "stream",
     "text": [
      "\n",
      "[*********************100%%**********************]  1 of 1 completed"
     ]
    },
    {
     "name": "stdout",
     "output_type": "stream",
     "text": [
      "17 BTSG\n"
     ]
    },
    {
     "name": "stderr",
     "output_type": "stream",
     "text": [
      "\n",
      "[*********************100%%**********************]  1 of 1 completed"
     ]
    },
    {
     "name": "stdout",
     "output_type": "stream",
     "text": [
      "18 AVBP\n"
     ]
    },
    {
     "name": "stderr",
     "output_type": "stream",
     "text": [
      "\n",
      "[*********************100%%**********************]  1 of 1 completed"
     ]
    },
    {
     "name": "stdout",
     "output_type": "stream",
     "text": [
      "19 HAO\n"
     ]
    },
    {
     "name": "stderr",
     "output_type": "stream",
     "text": [
      "\n",
      "[*********************100%%**********************]  1 of 1 completed"
     ]
    },
    {
     "name": "stdout",
     "output_type": "stream",
     "text": [
      "20 CGON\n"
     ]
    },
    {
     "name": "stderr",
     "output_type": "stream",
     "text": [
      "\n",
      "[*********************100%%**********************]  1 of 1 completed"
     ]
    },
    {
     "name": "stdout",
     "output_type": "stream",
     "text": [
      "21 YIBO\n"
     ]
    },
    {
     "name": "stderr",
     "output_type": "stream",
     "text": [
      "\n",
      "[*********************100%%**********************]  1 of 1 completed"
     ]
    },
    {
     "name": "stdout",
     "output_type": "stream",
     "text": [
      "22 SUGP\n"
     ]
    },
    {
     "name": "stderr",
     "output_type": "stream",
     "text": [
      "\n",
      "[*********************100%%**********************]  1 of 1 completed"
     ]
    },
    {
     "name": "stdout",
     "output_type": "stream",
     "text": [
      "23 JL\n"
     ]
    },
    {
     "name": "stderr",
     "output_type": "stream",
     "text": [
      "\n",
      "[*********************100%%**********************]  1 of 1 completed"
     ]
    },
    {
     "name": "stdout",
     "output_type": "stream",
     "text": [
      "24 KSPI\n"
     ]
    },
    {
     "name": "stderr",
     "output_type": "stream",
     "text": [
      "\n",
      "[*********************100%%**********************]  1 of 1 completed"
     ]
    },
    {
     "name": "stdout",
     "output_type": "stream",
     "text": [
      "25 JVSA\n"
     ]
    },
    {
     "name": "stderr",
     "output_type": "stream",
     "text": [
      "\n",
      "[*********************100%%**********************]  1 of 1 completed"
     ]
    },
    {
     "name": "stdout",
     "output_type": "stream",
     "text": [
      "26 PSBD\n"
     ]
    },
    {
     "name": "stderr",
     "output_type": "stream",
     "text": [
      "\n",
      "[*********************100%%**********************]  1 of 1 completed"
     ]
    },
    {
     "name": "stdout",
     "output_type": "stream",
     "text": [
      "27 CCTG\n"
     ]
    },
    {
     "name": "stderr",
     "output_type": "stream",
     "text": [
      "\n",
      "[*********************100%%**********************]  1 of 1 completed"
     ]
    },
    {
     "name": "stdout",
     "output_type": "stream",
     "text": [
      "28 SYNX\n"
     ]
    },
    {
     "name": "stderr",
     "output_type": "stream",
     "text": [
      "\n",
      "[*********************100%%**********************]  1 of 1 completed"
     ]
    },
    {
     "name": "stdout",
     "output_type": "stream",
     "text": [
      "29 SDHC\n"
     ]
    },
    {
     "name": "stderr",
     "output_type": "stream",
     "text": [
      "\n",
      "[*********************100%%**********************]  1 of 1 completed"
     ]
    },
    {
     "name": "stdout",
     "output_type": "stream",
     "text": [
      "30 ROMA\n"
     ]
    },
    {
     "name": "stderr",
     "output_type": "stream",
     "text": [
      "\n",
      "[*********************100%%**********************]  1 of 1 completed"
     ]
    },
    {
     "name": "stdout",
     "output_type": "stream",
     "text": [
      "31 IROH\n"
     ]
    },
    {
     "name": "stderr",
     "output_type": "stream",
     "text": [
      "\n",
      "[*********************100%%**********************]  1 of 1 completed"
     ]
    },
    {
     "name": "stdout",
     "output_type": "stream",
     "text": [
      "32 LGCB\n"
     ]
    },
    {
     "name": "stderr",
     "output_type": "stream",
     "text": [
      "\n",
      "[*********************100%%**********************]  1 of 1 completed"
     ]
    },
    {
     "name": "stdout",
     "output_type": "stream",
     "text": [
      "33 ZKH\n"
     ]
    },
    {
     "name": "stderr",
     "output_type": "stream",
     "text": [
      "\n",
      "[*********************100%%**********************]  1 of 1 completed"
     ]
    },
    {
     "name": "stdout",
     "output_type": "stream",
     "text": [
      "34 BAYA\n"
     ]
    },
    {
     "name": "stderr",
     "output_type": "stream",
     "text": [
      "\n",
      "[*********************100%%**********************]  1 of 1 completed"
     ]
    },
    {
     "name": "stdout",
     "output_type": "stream",
     "text": [
      "35 INHD\n"
     ]
    },
    {
     "name": "stderr",
     "output_type": "stream",
     "text": [
      "\n",
      "[*********************100%%**********************]  1 of 1 completed"
     ]
    },
    {
     "name": "stdout",
     "output_type": "stream",
     "text": [
      "36 AFJK\n"
     ]
    },
    {
     "name": "stderr",
     "output_type": "stream",
     "text": [
      "\n",
      "[*********************100%%**********************]  1 of 1 completed"
     ]
    },
    {
     "name": "stdout",
     "output_type": "stream",
     "text": [
      "37 GSIW\n"
     ]
    },
    {
     "name": "stderr",
     "output_type": "stream",
     "text": [
      "\n",
      "[*********************100%%**********************]  1 of 1 completed"
     ]
    },
    {
     "name": "stdout",
     "output_type": "stream",
     "text": [
      "38 FEBO\n"
     ]
    },
    {
     "name": "stderr",
     "output_type": "stream",
     "text": [
      "\n",
      "[*********************100%%**********************]  1 of 1 completed"
     ]
    },
    {
     "name": "stdout",
     "output_type": "stream",
     "text": [
      "39 CLBR\n"
     ]
    },
    {
     "name": "stderr",
     "output_type": "stream",
     "text": [
      "\n",
      "[*********************100%%**********************]  1 of 1 completed"
     ]
    },
    {
     "name": "stdout",
     "output_type": "stream",
     "text": [
      "40 ELAB\n"
     ]
    },
    {
     "name": "stderr",
     "output_type": "stream",
     "text": [
      "\n",
      "[*********************100%%**********************]  1 of 1 completed"
     ]
    },
    {
     "name": "stdout",
     "output_type": "stream",
     "text": [
      "41 RR\n"
     ]
    },
    {
     "name": "stderr",
     "output_type": "stream",
     "text": [
      "\n",
      "[*********************100%%**********************]  1 of 1 completed"
     ]
    },
    {
     "name": "stdout",
     "output_type": "stream",
     "text": [
      "42 DDC\n"
     ]
    },
    {
     "name": "stderr",
     "output_type": "stream",
     "text": [
      "\n",
      "[*********************100%%**********************]  1 of 1 completed"
     ]
    },
    {
     "name": "stdout",
     "output_type": "stream",
     "text": [
      "43 SHIM\n"
     ]
    },
    {
     "name": "stderr",
     "output_type": "stream",
     "text": [
      "\n",
      "[*********************100%%**********************]  1 of 1 completed"
     ]
    },
    {
     "name": "stdout",
     "output_type": "stream",
     "text": [
      "44 GLAC\n"
     ]
    },
    {
     "name": "stderr",
     "output_type": "stream",
     "text": [
      "\n",
      "[*********************100%%**********************]  1 of 1 completed"
     ]
    },
    {
     "name": "stdout",
     "output_type": "stream",
     "text": [
      "45 SGN\n"
     ]
    },
    {
     "name": "stderr",
     "output_type": "stream",
     "text": [
      "\n",
      "[*********************100%%**********************]  1 of 1 completed"
     ]
    },
    {
     "name": "stdout",
     "output_type": "stream",
     "text": [
      "46 HG\n"
     ]
    },
    {
     "name": "stderr",
     "output_type": "stream",
     "text": [
      "\n",
      "[*********************100%%**********************]  1 of 1 completed"
     ]
    },
    {
     "name": "stdout",
     "output_type": "stream",
     "text": [
      "47 CRGX\n"
     ]
    },
    {
     "name": "stderr",
     "output_type": "stream",
     "text": [
      "\n",
      "[*********************100%%**********************]  1 of 1 completed"
     ]
    },
    {
     "name": "stdout",
     "output_type": "stream",
     "text": [
      "48 ANSC\n"
     ]
    },
    {
     "name": "stderr",
     "output_type": "stream",
     "text": [
      "\n",
      "[*********************100%%**********************]  1 of 1 completed"
     ]
    },
    {
     "name": "stdout",
     "output_type": "stream",
     "text": [
      "49 AITR\n"
     ]
    },
    {
     "name": "stderr",
     "output_type": "stream",
     "text": [
      "\n",
      "[*********************100%%**********************]  1 of 1 completed"
     ]
    },
    {
     "name": "stdout",
     "output_type": "stream",
     "text": [
      "50 GVH\n"
     ]
    },
    {
     "name": "stderr",
     "output_type": "stream",
     "text": [
      "\n",
      "[*********************100%%**********************]  1 of 1 completed"
     ]
    },
    {
     "name": "stdout",
     "output_type": "stream",
     "text": [
      "51 LXEO\n"
     ]
    },
    {
     "name": "stderr",
     "output_type": "stream",
     "text": [
      "\n",
      "[*********************100%%**********************]  1 of 1 completed"
     ]
    },
    {
     "name": "stdout",
     "output_type": "stream",
     "text": [
      "52 PAPL\n"
     ]
    },
    {
     "name": "stderr",
     "output_type": "stream",
     "text": [
      "\n",
      "[*********************100%%**********************]  1 of 1 completed"
     ]
    },
    {
     "name": "stdout",
     "output_type": "stream",
     "text": [
      "53 ATGL\n"
     ]
    },
    {
     "name": "stderr",
     "output_type": "stream",
     "text": [
      "\n",
      "[*********************100%%**********************]  1 of 1 completed"
     ]
    },
    {
     "name": "stdout",
     "output_type": "stream",
     "text": [
      "54 MNR\n"
     ]
    },
    {
     "name": "stderr",
     "output_type": "stream",
     "text": [
      "\n",
      "[*********************100%%**********************]  1 of 1 completed"
     ]
    },
    {
     "name": "stdout",
     "output_type": "stream",
     "text": [
      "55 WBUY\n"
     ]
    },
    {
     "name": "stderr",
     "output_type": "stream",
     "text": [
      "\n",
      "[*********************100%%**********************]  1 of 1 completed"
     ]
    },
    {
     "name": "stdout",
     "output_type": "stream",
     "text": [
      "56 NCL\n"
     ]
    },
    {
     "name": "stderr",
     "output_type": "stream",
     "text": [
      "\n",
      "[*********************100%%**********************]  1 of 1 completed"
     ]
    },
    {
     "name": "stdout",
     "output_type": "stream",
     "text": [
      "57 BIRK\n"
     ]
    },
    {
     "name": "stderr",
     "output_type": "stream",
     "text": [
      "\n",
      "[*********************100%%**********************]  1 of 1 completed"
     ]
    },
    {
     "name": "stdout",
     "output_type": "stream",
     "text": [
      "58 GMM\n"
     ]
    },
    {
     "name": "stderr",
     "output_type": "stream",
     "text": [
      "\n",
      "[*********************100%%**********************]  1 of 1 completed"
     ]
    },
    {
     "name": "stdout",
     "output_type": "stream",
     "text": [
      "59 PMEC\n"
     ]
    },
    {
     "name": "stderr",
     "output_type": "stream",
     "text": [
      "\n",
      "[*********************100%%**********************]  1 of 1 completed"
     ]
    },
    {
     "name": "stdout",
     "output_type": "stream",
     "text": [
      "60 LRHC\n"
     ]
    },
    {
     "name": "stderr",
     "output_type": "stream",
     "text": [
      "\n",
      "[*********************100%%**********************]  1 of 1 completed"
     ]
    },
    {
     "name": "stdout",
     "output_type": "stream",
     "text": [
      "61 GPAK\n"
     ]
    },
    {
     "name": "stderr",
     "output_type": "stream",
     "text": [
      "\n",
      "[*********************100%%**********************]  1 of 1 completed"
     ]
    },
    {
     "name": "stdout",
     "output_type": "stream",
     "text": [
      "62 SPKL\n"
     ]
    },
    {
     "name": "stderr",
     "output_type": "stream",
     "text": [
      "\n",
      "[*********************100%%**********************]  1 of 1 completed"
     ]
    },
    {
     "name": "stdout",
     "output_type": "stream",
     "text": [
      "63 QETA\n"
     ]
    },
    {
     "name": "stderr",
     "output_type": "stream",
     "text": [
      "\n",
      "[*********************100%%**********************]  1 of 1 completed"
     ]
    },
    {
     "name": "stdout",
     "output_type": "stream",
     "text": [
      "64 MSS\n"
     ]
    },
    {
     "name": "stderr",
     "output_type": "stream",
     "text": [
      "\n",
      "[*********************100%%**********************]  1 of 1 completed"
     ]
    },
    {
     "name": "stdout",
     "output_type": "stream",
     "text": [
      "65 ANL\n"
     ]
    },
    {
     "name": "stderr",
     "output_type": "stream",
     "text": [
      "\n",
      "[*********************100%%**********************]  1 of 1 completed"
     ]
    },
    {
     "name": "stdout",
     "output_type": "stream",
     "text": [
      "66 SYRA\n"
     ]
    },
    {
     "name": "stderr",
     "output_type": "stream",
     "text": [
      "\n",
      "[*********************100%%**********************]  1 of 1 completed"
     ]
    },
    {
     "name": "stdout",
     "output_type": "stream",
     "text": [
      "67 VSME\n"
     ]
    },
    {
     "name": "stderr",
     "output_type": "stream",
     "text": [
      "\n",
      "[*********************100%%**********************]  1 of 1 completed"
     ]
    },
    {
     "name": "stdout",
     "output_type": "stream",
     "text": [
      "68 LRE\n"
     ]
    },
    {
     "name": "stderr",
     "output_type": "stream",
     "text": [
      "\n",
      "[*********************100%%**********************]  1 of 1 completed"
     ]
    },
    {
     "name": "stdout",
     "output_type": "stream",
     "text": [
      "69 TURB\n"
     ]
    },
    {
     "name": "stderr",
     "output_type": "stream",
     "text": [
      "\n",
      "[*********************100%%**********************]  1 of 1 completed"
     ]
    },
    {
     "name": "stdout",
     "output_type": "stream",
     "text": [
      "70 MDBH\n"
     ]
    },
    {
     "name": "stderr",
     "output_type": "stream",
     "text": [
      "\n",
      "[*********************100%%**********************]  1 of 1 completed"
     ]
    },
    {
     "name": "stdout",
     "output_type": "stream",
     "text": [
      "71 KVYO\n"
     ]
    },
    {
     "name": "stderr",
     "output_type": "stream",
     "text": [
      "\n",
      "[*********************100%%**********************]  1 of 1 completed"
     ]
    },
    {
     "name": "stdout",
     "output_type": "stream",
     "text": [
      "72 CART\n"
     ]
    },
    {
     "name": "stderr",
     "output_type": "stream",
     "text": [
      "\n",
      "[*********************100%%**********************]  1 of 1 completed"
     ]
    },
    {
     "name": "stdout",
     "output_type": "stream",
     "text": [
      "73 DTCK\n"
     ]
    },
    {
     "name": "stderr",
     "output_type": "stream",
     "text": [
      "\n",
      "[*********************100%%**********************]  1 of 1 completed"
     ]
    },
    {
     "name": "stdout",
     "output_type": "stream",
     "text": [
      "74 NMRA\n"
     ]
    },
    {
     "name": "stderr",
     "output_type": "stream",
     "text": [
      "\n",
      "[*********************100%%**********************]  1 of 1 completed"
     ]
    },
    {
     "name": "stdout",
     "output_type": "stream",
     "text": [
      "75 ARM\n"
     ]
    },
    {
     "name": "stderr",
     "output_type": "stream",
     "text": [
      "\n",
      "[*********************100%%**********************]  1 of 1 completed"
     ]
    },
    {
     "name": "stdout",
     "output_type": "stream",
     "text": [
      "76 SPPL\n"
     ]
    },
    {
     "name": "stderr",
     "output_type": "stream",
     "text": [
      "\n",
      "[*********************100%%**********************]  1 of 1 completed"
     ]
    },
    {
     "name": "stdout",
     "output_type": "stream",
     "text": [
      "77 NWGL\n"
     ]
    },
    {
     "name": "stderr",
     "output_type": "stream",
     "text": [
      "\n",
      "[*********************100%%**********************]  1 of 1 completed"
     ]
    },
    {
     "name": "stdout",
     "output_type": "stream",
     "text": [
      "78 SWIN\n"
     ]
    },
    {
     "name": "stderr",
     "output_type": "stream",
     "text": [
      "\n",
      "[*********************100%%**********************]  1 of 1 completed"
     ]
    },
    {
     "name": "stdout",
     "output_type": "stream",
     "text": [
      "79 IVP\n"
     ]
    },
    {
     "name": "stderr",
     "output_type": "stream",
     "text": [
      "\n",
      "[*********************100%%**********************]  1 of 1 completed"
     ]
    },
    {
     "name": "stdout",
     "output_type": "stream",
     "text": [
      "80 NNAG\n"
     ]
    },
    {
     "name": "stderr",
     "output_type": "stream",
     "text": [
      "\n",
      "[*********************100%%**********************]  1 of 1 completed"
     ]
    },
    {
     "name": "stdout",
     "output_type": "stream",
     "text": [
      "81 SRM\n"
     ]
    },
    {
     "name": "stderr",
     "output_type": "stream",
     "text": [
      "\n",
      "[*********************100%%**********************]  1 of 1 completed"
     ]
    },
    {
     "name": "stdout",
     "output_type": "stream",
     "text": [
      "82 SPGC\n"
     ]
    },
    {
     "name": "stderr",
     "output_type": "stream",
     "text": [
      "\n",
      "[*********************100%%**********************]  1 of 1 completed"
     ]
    },
    {
     "name": "stdout",
     "output_type": "stream",
     "text": [
      "83 LQR\n"
     ]
    },
    {
     "name": "stderr",
     "output_type": "stream",
     "text": [
      "\n",
      "[*********************100%%**********************]  1 of 1 completed"
     ]
    },
    {
     "name": "stdout",
     "output_type": "stream",
     "text": [
      "84 NRXS\n"
     ]
    },
    {
     "name": "stderr",
     "output_type": "stream",
     "text": [
      "\n",
      "[*********************100%%**********************]  1 of 1 completed"
     ]
    },
    {
     "name": "stdout",
     "output_type": "stream",
     "text": [
      "85 FTEL\n"
     ]
    },
    {
     "name": "stderr",
     "output_type": "stream",
     "text": [
      "\n",
      "[*********************100%%**********************]  1 of 1 completed"
     ]
    },
    {
     "name": "stdout",
     "output_type": "stream",
     "text": [
      "86 MIRA\n"
     ]
    },
    {
     "name": "stderr",
     "output_type": "stream",
     "text": [
      "\n",
      "[*********************100%%**********************]  1 of 1 completed"
     ]
    },
    {
     "name": "stdout",
     "output_type": "stream",
     "text": [
      "87 PXDT\n"
     ]
    },
    {
     "name": "stderr",
     "output_type": "stream",
     "text": [
      "\n",
      "[*********************100%%**********************]  1 of 1 completed"
     ]
    },
    {
     "name": "stdout",
     "output_type": "stream",
     "text": [
      "88 HRYU\n"
     ]
    },
    {
     "name": "stderr",
     "output_type": "stream",
     "text": [
      "\n",
      "[*********************100%%**********************]  1 of 1 completed"
     ]
    },
    {
     "name": "stdout",
     "output_type": "stream",
     "text": [
      "89 CTNT\n"
     ]
    },
    {
     "name": "stderr",
     "output_type": "stream",
     "text": [
      "\n",
      "[*********************100%%**********************]  1 of 1 completed"
     ]
    },
    {
     "name": "stdout",
     "output_type": "stream",
     "text": [
      "90 SRFM\n"
     ]
    },
    {
     "name": "stderr",
     "output_type": "stream",
     "text": [
      "\n",
      "[*********************100%%**********************]  1 of 1 completed"
     ]
    },
    {
     "name": "stdout",
     "output_type": "stream",
     "text": [
      "91 PRZO\n"
     ]
    },
    {
     "name": "stderr",
     "output_type": "stream",
     "text": [
      "\n",
      "[*********************100%%**********************]  1 of 1 completed"
     ]
    },
    {
     "name": "stdout",
     "output_type": "stream",
     "text": [
      "92 HYAC\n"
     ]
    },
    {
     "name": "stderr",
     "output_type": "stream",
     "text": [
      "\n",
      "[*********************100%%**********************]  1 of 1 completed"
     ]
    },
    {
     "name": "stdout",
     "output_type": "stream",
     "text": [
      "93 KVAC\n"
     ]
    },
    {
     "name": "stderr",
     "output_type": "stream",
     "text": [
      "\n",
      "[*********************100%%**********************]  1 of 1 completed"
     ]
    },
    {
     "name": "stdout",
     "output_type": "stream",
     "text": [
      "94 JNVR\n"
     ]
    },
    {
     "name": "stderr",
     "output_type": "stream",
     "text": [
      "\n",
      "[*********************100%%**********************]  1 of 1 completed"
     ]
    },
    {
     "name": "stdout",
     "output_type": "stream",
     "text": [
      "95 ELWS\n"
     ]
    },
    {
     "name": "stderr",
     "output_type": "stream",
     "text": [
      "\n",
      "[*********************100%%**********************]  1 of 1 completed"
     ]
    },
    {
     "name": "stdout",
     "output_type": "stream",
     "text": [
      "96 WRNT\n"
     ]
    },
    {
     "name": "stderr",
     "output_type": "stream",
     "text": [
      "\n",
      "[*********************100%%**********************]  1 of 1 completed"
     ]
    },
    {
     "name": "stdout",
     "output_type": "stream",
     "text": [
      "97 TSBX\n"
     ]
    },
    {
     "name": "stderr",
     "output_type": "stream",
     "text": [
      "\n",
      "[*********************100%%**********************]  1 of 1 completed"
     ]
    },
    {
     "name": "stdout",
     "output_type": "stream",
     "text": [
      "98 ODD\n"
     ]
    },
    {
     "name": "stderr",
     "output_type": "stream",
     "text": [
      "\n",
      "[*********************100%%**********************]  1 of 1 completed"
     ]
    },
    {
     "name": "stdout",
     "output_type": "stream",
     "text": [
      "99 APGE\n"
     ]
    },
    {
     "name": "stderr",
     "output_type": "stream",
     "text": [
      "\n",
      "[*********************100%%**********************]  1 of 1 completed"
     ]
    },
    {
     "name": "stdout",
     "output_type": "stream",
     "text": [
      "100 NETD\n"
     ]
    },
    {
     "name": "stderr",
     "output_type": "stream",
     "text": [
      "\n",
      "[*********************100%%**********************]  1 of 1 completed"
     ]
    },
    {
     "name": "stdout",
     "output_type": "stream",
     "text": [
      "101 SGMT\n"
     ]
    },
    {
     "name": "stderr",
     "output_type": "stream",
     "text": [
      "\n",
      "[*********************100%%**********************]  1 of 1 completed"
     ]
    },
    {
     "name": "stdout",
     "output_type": "stream",
     "text": [
      "102 BOWN\n"
     ]
    },
    {
     "name": "stderr",
     "output_type": "stream",
     "text": [
      "\n",
      "[*********************100%%**********************]  1 of 1 completed"
     ]
    },
    {
     "name": "stdout",
     "output_type": "stream",
     "text": [
      "103 SXTP\n"
     ]
    },
    {
     "name": "stderr",
     "output_type": "stream",
     "text": [
      "\n",
      "[*********************100%%**********************]  1 of 1 completed"
     ]
    },
    {
     "name": "stdout",
     "output_type": "stream",
     "text": [
      "104 PWM\n"
     ]
    },
    {
     "name": "stderr",
     "output_type": "stream",
     "text": [
      "\n",
      "[*********************100%%**********************]  1 of 1 completed"
     ]
    },
    {
     "name": "stdout",
     "output_type": "stream",
     "text": [
      "105 VTMX\n"
     ]
    },
    {
     "name": "stderr",
     "output_type": "stream",
     "text": [
      "\n",
      "[*********************100%%**********************]  1 of 1 completed"
     ]
    },
    {
     "name": "stdout",
     "output_type": "stream",
     "text": [
      "106 INTS\n"
     ]
    },
    {
     "name": "stderr",
     "output_type": "stream",
     "text": [
      "\n",
      "[*********************100%%**********************]  1 of 1 completed"
     ]
    },
    {
     "name": "stdout",
     "output_type": "stream",
     "text": [
      "107 SVV\n"
     ]
    },
    {
     "name": "stderr",
     "output_type": "stream",
     "text": [
      "\n",
      "[*********************100%%**********************]  1 of 1 completed"
     ]
    },
    {
     "name": "stdout",
     "output_type": "stream",
     "text": [
      "108 KGS\n"
     ]
    },
    {
     "name": "stderr",
     "output_type": "stream",
     "text": [
      "\n",
      "[*********************100%%**********************]  1 of 1 completed"
     ]
    },
    {
     "name": "stdout",
     "output_type": "stream",
     "text": [
      "109 FIHL\n"
     ]
    },
    {
     "name": "stderr",
     "output_type": "stream",
     "text": [
      "\n",
      "[*********************100%%**********************]  1 of 1 completed"
     ]
    },
    {
     "name": "stdout",
     "output_type": "stream",
     "text": [
      "110 GENK\n"
     ]
    },
    {
     "name": "stderr",
     "output_type": "stream",
     "text": [
      "\n",
      "[*********************100%%**********************]  1 of 1 completed"
     ]
    },
    {
     "name": "stdout",
     "output_type": "stream",
     "text": [
      "111 BUJA\n"
     ]
    },
    {
     "name": "stderr",
     "output_type": "stream",
     "text": [
      "\n",
      "[*********************100%%**********************]  1 of 1 completed"
     ]
    },
    {
     "name": "stdout",
     "output_type": "stream",
     "text": [
      "112 BOF\n"
     ]
    },
    {
     "name": "stderr",
     "output_type": "stream",
     "text": [
      "\n",
      "[*********************100%%**********************]  1 of 1 completed"
     ]
    },
    {
     "name": "stdout",
     "output_type": "stream",
     "text": [
      "113 AZTR\n"
     ]
    },
    {
     "name": "stderr",
     "output_type": "stream",
     "text": [
      "\n",
      "[*********************100%%**********************]  1 of 1 completed"
     ]
    },
    {
     "name": "stdout",
     "output_type": "stream",
     "text": [
      "114 CAVA\n"
     ]
    },
    {
     "name": "stderr",
     "output_type": "stream",
     "text": [
      "\n",
      "[*********************100%%**********************]  1 of 1 completed"
     ]
    },
    {
     "name": "stdout",
     "output_type": "stream",
     "text": [
      "115 ESHA\n"
     ]
    },
    {
     "name": "stderr",
     "output_type": "stream",
     "text": [
      "\n",
      "[*********************100%%**********************]  1 of 1 completed"
     ]
    },
    {
     "name": "stdout",
     "output_type": "stream",
     "text": [
      "116 ATMU\n"
     ]
    },
    {
     "name": "stderr",
     "output_type": "stream",
     "text": [
      "\n",
      "[*********************100%%**********************]  1 of 1 completed"
     ]
    },
    {
     "name": "stdout",
     "output_type": "stream",
     "text": [
      "117 ATS\n"
     ]
    },
    {
     "name": "stderr",
     "output_type": "stream",
     "text": [
      "\n",
      "[*********************100%%**********************]  1 of 1 completed"
     ]
    },
    {
     "name": "stdout",
     "output_type": "stream",
     "text": [
      "118 IPXX\n"
     ]
    },
    {
     "name": "stderr",
     "output_type": "stream",
     "text": [
      "\n",
      "[*********************100%%**********************]  1 of 1 completed"
     ]
    },
    {
     "name": "stdout",
     "output_type": "stream",
     "text": [
      "119 CWD\n"
     ]
    },
    {
     "name": "stderr",
     "output_type": "stream",
     "text": [
      "\n",
      "[*********************100%%**********************]  1 of 1 completed"
     ]
    },
    {
     "name": "stdout",
     "output_type": "stream",
     "text": [
      "120 SGE\n"
     ]
    },
    {
     "name": "stderr",
     "output_type": "stream",
     "text": [
      "\n",
      "[*********************100%%**********************]  1 of 1 completed"
     ]
    },
    {
     "name": "stdout",
     "output_type": "stream",
     "text": [
      "121 SLRN\n"
     ]
    },
    {
     "name": "stderr",
     "output_type": "stream",
     "text": [
      "\n",
      "[*********************100%%**********************]  1 of 1 completed"
     ]
    },
    {
     "name": "stdout",
     "output_type": "stream",
     "text": [
      "122 ALCY\n"
     ]
    },
    {
     "name": "stderr",
     "output_type": "stream",
     "text": [
      "\n",
      "[*********************100%%**********************]  1 of 1 completed"
     ]
    },
    {
     "name": "stdout",
     "output_type": "stream",
     "text": [
      "123 KVUE\n"
     ]
    },
    {
     "name": "stderr",
     "output_type": "stream",
     "text": [
      "\n",
      "[*********************100%%**********************]  1 of 1 completed"
     ]
    },
    {
     "name": "stdout",
     "output_type": "stream",
     "text": [
      "124 GODN\n"
     ]
    },
    {
     "name": "stderr",
     "output_type": "stream",
     "text": [
      "\n",
      "[*********************100%%**********************]  1 of 1 completed"
     ]
    },
    {
     "name": "stdout",
     "output_type": "stream",
     "text": [
      "125 TRNR\n"
     ]
    },
    {
     "name": "stderr",
     "output_type": "stream",
     "text": [
      "\n",
      "[*********************100%%**********************]  1 of 1 completed"
     ]
    },
    {
     "name": "stdout",
     "output_type": "stream",
     "text": [
      "126 AACT\n"
     ]
    },
    {
     "name": "stderr",
     "output_type": "stream",
     "text": [
      "\n",
      "[*********************100%%**********************]  1 of 1 completed"
     ]
    },
    {
     "name": "stdout",
     "output_type": "stream",
     "text": [
      "127 JYD\n"
     ]
    },
    {
     "name": "stderr",
     "output_type": "stream",
     "text": [
      "\n",
      "[*********************100%%**********************]  1 of 1 completed"
     ]
    },
    {
     "name": "stdout",
     "output_type": "stream",
     "text": [
      "128 USGO\n"
     ]
    },
    {
     "name": "stderr",
     "output_type": "stream",
     "text": [
      "\n",
      "[*********************100%%**********************]  1 of 1 completed"
     ]
    },
    {
     "name": "stdout",
     "output_type": "stream",
     "text": [
      "129 UCAR\n"
     ]
    },
    {
     "name": "stderr",
     "output_type": "stream",
     "text": [
      "\n",
      "[*********************100%%**********************]  1 of 1 completed"
     ]
    },
    {
     "name": "stdout",
     "output_type": "stream",
     "text": [
      "130 WLGS\n"
     ]
    },
    {
     "name": "stderr",
     "output_type": "stream",
     "text": [
      "\n",
      "[*********************100%%**********************]  1 of 1 completed"
     ]
    },
    {
     "name": "stdout",
     "output_type": "stream",
     "text": [
      "131 TPET\n"
     ]
    },
    {
     "name": "stderr",
     "output_type": "stream",
     "text": [
      "\n",
      "[*********************100%%**********************]  1 of 1 completed"
     ]
    },
    {
     "name": "stdout",
     "output_type": "stream",
     "text": [
      "132 TCJH\n"
     ]
    },
    {
     "name": "stderr",
     "output_type": "stream",
     "text": [
      "\n",
      "[*********************100%%**********************]  1 of 1 completed"
     ]
    },
    {
     "name": "stdout",
     "output_type": "stream",
     "text": [
      "133 GDTC\n"
     ]
    },
    {
     "name": "stderr",
     "output_type": "stream",
     "text": [
      "\n",
      "[*********************100%%**********************]  1 of 1 completed"
     ]
    },
    {
     "name": "stdout",
     "output_type": "stream",
     "text": [
      "134 VCIG\n"
     ]
    },
    {
     "name": "stderr",
     "output_type": "stream",
     "text": [
      "\n",
      "[*********************100%%**********************]  1 of 1 completed"
     ]
    },
    {
     "name": "stdout",
     "output_type": "stream",
     "text": [
      "135 GDHG\n"
     ]
    },
    {
     "name": "stderr",
     "output_type": "stream",
     "text": [
      "\n",
      "[*********************100%%**********************]  1 of 1 completed"
     ]
    },
    {
     "name": "stdout",
     "output_type": "stream",
     "text": [
      "136 ARBB\n"
     ]
    },
    {
     "name": "stderr",
     "output_type": "stream",
     "text": [
      "\n",
      "[*********************100%%**********************]  1 of 1 completed"
     ]
    },
    {
     "name": "stdout",
     "output_type": "stream",
     "text": [
      "137 ISPR\n"
     ]
    },
    {
     "name": "stderr",
     "output_type": "stream",
     "text": [
      "\n",
      "[*********************100%%**********************]  1 of 1 completed"
     ]
    },
    {
     "name": "stdout",
     "output_type": "stream",
     "text": [
      "138 MGIH\n"
     ]
    },
    {
     "name": "stderr",
     "output_type": "stream",
     "text": [
      "\n",
      "[*********************100%%**********************]  1 of 1 completed"
     ]
    },
    {
     "name": "stdout",
     "output_type": "stream",
     "text": [
      "139 MWG\n"
     ]
    },
    {
     "name": "stderr",
     "output_type": "stream",
     "text": [
      "\n",
      "[*********************100%%**********************]  1 of 1 completed"
     ]
    },
    {
     "name": "stdout",
     "output_type": "stream",
     "text": [
      "140 HSHP\n"
     ]
    },
    {
     "name": "stderr",
     "output_type": "stream",
     "text": [
      "\n",
      "[*********************100%%**********************]  1 of 1 completed"
     ]
    },
    {
     "name": "stdout",
     "output_type": "stream",
     "text": [
      "141 SFWL\n"
     ]
    },
    {
     "name": "stderr",
     "output_type": "stream",
     "text": [
      "\n",
      "[*********************100%%**********************]  1 of 1 completed"
     ]
    },
    {
     "name": "stdout",
     "output_type": "stream",
     "text": [
      "142 SYT\n"
     ]
    },
    {
     "name": "stderr",
     "output_type": "stream",
     "text": [
      "\n",
      "[*********************100%%**********************]  1 of 1 completed"
     ]
    },
    {
     "name": "stdout",
     "output_type": "stream",
     "text": [
      "143 HKIT\n"
     ]
    },
    {
     "name": "stderr",
     "output_type": "stream",
     "text": [
      "\n",
      "[*********************100%%**********************]  1 of 1 completed"
     ]
    },
    {
     "name": "stdout",
     "output_type": "stream",
     "text": [
      "144 CHSN\n"
     ]
    },
    {
     "name": "stderr",
     "output_type": "stream",
     "text": [
      "\n",
      "[*********************100%%**********************]  1 of 1 completed"
     ]
    },
    {
     "name": "stdout",
     "output_type": "stream",
     "text": [
      "145 TBMC\n"
     ]
    },
    {
     "name": "stderr",
     "output_type": "stream",
     "text": [
      "\n",
      "[*********************100%%**********************]  1 of 1 completed"
     ]
    },
    {
     "name": "stdout",
     "output_type": "stream",
     "text": [
      "146 HLP\n"
     ]
    },
    {
     "name": "stderr",
     "output_type": "stream",
     "text": [
      "\n",
      "[*********************100%%**********************]  1 of 1 completed"
     ]
    },
    {
     "name": "stdout",
     "output_type": "stream",
     "text": [
      "147 ZJYL\n"
     ]
    },
    {
     "name": "stderr",
     "output_type": "stream",
     "text": [
      "\n",
      "[*********************100%%**********************]  1 of 1 completed"
     ]
    },
    {
     "name": "stdout",
     "output_type": "stream",
     "text": [
      "148 TMTC\n"
     ]
    },
    {
     "name": "stderr",
     "output_type": "stream",
     "text": [
      "\n",
      "[*********************100%%**********************]  1 of 1 completed"
     ]
    },
    {
     "name": "stdout",
     "output_type": "stream",
     "text": [
      "149 YGFGF\n"
     ]
    },
    {
     "name": "stderr",
     "output_type": "stream",
     "text": [
      "\n",
      "[*********************100%%**********************]  1 of 1 completed"
     ]
    },
    {
     "name": "stdout",
     "output_type": "stream",
     "text": [
      "150 OAKU\n"
     ]
    },
    {
     "name": "stderr",
     "output_type": "stream",
     "text": [
      "\n",
      "[*********************100%%**********************]  1 of 1 completed"
     ]
    },
    {
     "name": "stdout",
     "output_type": "stream",
     "text": [
      "151 BANL\n"
     ]
    },
    {
     "name": "stderr",
     "output_type": "stream",
     "text": [
      "\n",
      "[*********************100%%**********************]  1 of 1 completed"
     ]
    },
    {
     "name": "stdout",
     "output_type": "stream",
     "text": [
      "152 OMH\n"
     ]
    },
    {
     "name": "stderr",
     "output_type": "stream",
     "text": [
      "\n",
      "[*********************100%%**********************]  1 of 1 completed"
     ]
    },
    {
     "name": "stdout",
     "output_type": "stream",
     "text": [
      "153 MGRX\n"
     ]
    },
    {
     "name": "stderr",
     "output_type": "stream",
     "text": [
      "\n",
      "[*********************100%%**********************]  1 of 1 completed"
     ]
    },
    {
     "name": "stdout",
     "output_type": "stream",
     "text": [
      "154 FORL\n"
     ]
    },
    {
     "name": "stderr",
     "output_type": "stream",
     "text": [
      "\n",
      "[*********************100%%**********************]  1 of 1 completed"
     ]
    },
    {
     "name": "stdout",
     "output_type": "stream",
     "text": [
      "155 ICG\n"
     ]
    },
    {
     "name": "stderr",
     "output_type": "stream",
     "text": [
      "\n",
      "[*********************100%%**********************]  1 of 1 completed"
     ]
    },
    {
     "name": "stdout",
     "output_type": "stream",
     "text": [
      "156 IZM\n"
     ]
    },
    {
     "name": "stderr",
     "output_type": "stream",
     "text": [
      "\n",
      "[*********************100%%**********************]  1 of 1 completed"
     ]
    },
    {
     "name": "stdout",
     "output_type": "stream",
     "text": [
      "157 AESI\n"
     ]
    },
    {
     "name": "stderr",
     "output_type": "stream",
     "text": [
      "\n",
      "[*********************100%%**********************]  1 of 1 completed"
     ]
    },
    {
     "name": "stdout",
     "output_type": "stream",
     "text": [
      "158 AIXI\n"
     ]
    },
    {
     "name": "stderr",
     "output_type": "stream",
     "text": [
      "\n",
      "[*********************100%%**********************]  1 of 1 completed"
     ]
    },
    {
     "name": "stdout",
     "output_type": "stream",
     "text": [
      "159 SBXC\n"
     ]
    },
    {
     "name": "stderr",
     "output_type": "stream",
     "text": [
      "\n",
      "[*********************100%%**********************]  1 of 1 completed"
     ]
    },
    {
     "name": "stdout",
     "output_type": "stream",
     "text": [
      "160 BMR\n"
     ]
    },
    {
     "name": "stderr",
     "output_type": "stream",
     "text": [
      "\n",
      "[*********************100%%**********************]  1 of 1 completed"
     ]
    },
    {
     "name": "stdout",
     "output_type": "stream",
     "text": [
      "161 DIST\n"
     ]
    },
    {
     "name": "stderr",
     "output_type": "stream",
     "text": [
      "\n",
      "[*********************100%%**********************]  1 of 1 completed"
     ]
    },
    {
     "name": "stdout",
     "output_type": "stream",
     "text": [
      "162 GXAI\n"
     ]
    },
    {
     "name": "stderr",
     "output_type": "stream",
     "text": [
      "\n",
      "[*********************100%%**********************]  1 of 1 completed"
     ]
    },
    {
     "name": "stdout",
     "output_type": "stream",
     "text": [
      "163 MARX\n"
     ]
    },
    {
     "name": "stderr",
     "output_type": "stream",
     "text": [
      "\n",
      "[*********************100%%**********************]  1 of 1 completed"
     ]
    },
    {
     "name": "stdout",
     "output_type": "stream",
     "text": [
      "164 BFRG\n"
     ]
    },
    {
     "name": "stderr",
     "output_type": "stream",
     "text": [
      "\n",
      "[*********************100%%**********************]  1 of 1 completed"
     ]
    },
    {
     "name": "stdout",
     "output_type": "stream",
     "text": [
      "165 ENLT\n"
     ]
    },
    {
     "name": "stderr",
     "output_type": "stream",
     "text": [
      "\n",
      "[*********************100%%**********************]  1 of 1 completed"
     ]
    },
    {
     "name": "stdout",
     "output_type": "stream",
     "text": [
      "166 MLYS\n"
     ]
    },
    {
     "name": "stderr",
     "output_type": "stream",
     "text": [
      "\n",
      "[*********************100%%**********************]  1 of 1 completed"
     ]
    },
    {
     "name": "stdout",
     "output_type": "stream",
     "text": [
      "167 HOVR\n"
     ]
    },
    {
     "name": "stderr",
     "output_type": "stream",
     "text": [
      "\n",
      "[*********************100%%**********************]  1 of 1 completed"
     ]
    },
    {
     "name": "stdout",
     "output_type": "stream",
     "text": [
      "168 BLAC\n"
     ]
    },
    {
     "name": "stderr",
     "output_type": "stream",
     "text": [
      "\n",
      "[*********************100%%**********************]  1 of 1 completed"
     ]
    },
    {
     "name": "stdout",
     "output_type": "stream",
     "text": [
      "169 NXT\n"
     ]
    },
    {
     "name": "stderr",
     "output_type": "stream",
     "text": [
      "\n",
      "[*********************100%%**********************]  1 of 1 completed"
     ]
    },
    {
     "name": "stdout",
     "output_type": "stream",
     "text": [
      "170 HSAI\n"
     ]
    },
    {
     "name": "stderr",
     "output_type": "stream",
     "text": [
      "\n",
      "[*********************100%%**********************]  1 of 1 completed"
     ]
    },
    {
     "name": "stdout",
     "output_type": "stream",
     "text": [
      "171 LSDI\n"
     ]
    },
    {
     "name": "stderr",
     "output_type": "stream",
     "text": [
      "\n",
      "[*********************100%%**********************]  1 of 1 completed"
     ]
    },
    {
     "name": "stdout",
     "output_type": "stream",
     "text": [
      "172 LICN\n"
     ]
    },
    {
     "name": "stderr",
     "output_type": "stream",
     "text": [
      "\n",
      "[*********************100%%**********************]  1 of 1 completed"
     ]
    },
    {
     "name": "stdout",
     "output_type": "stream",
     "text": [
      "173 GPCR\n"
     ]
    },
    {
     "name": "stderr",
     "output_type": "stream",
     "text": [
      "\n",
      "[*********************100%%**********************]  1 of 1 completed"
     ]
    },
    {
     "name": "stdout",
     "output_type": "stream",
     "text": [
      "174 ASST\n"
     ]
    },
    {
     "name": "stderr",
     "output_type": "stream",
     "text": [
      "\n",
      "[*********************100%%**********************]  1 of 1 completed"
     ]
    },
    {
     "name": "stdout",
     "output_type": "stream",
     "text": [
      "175 CETU\n"
     ]
    },
    {
     "name": "stderr",
     "output_type": "stream",
     "text": [
      "\n",
      "[*********************100%%**********************]  1 of 1 completed"
     ]
    },
    {
     "name": "stdout",
     "output_type": "stream",
     "text": [
      "176 TXO\n"
     ]
    },
    {
     "name": "stderr",
     "output_type": "stream",
     "text": [
      "\n",
      "[*********************100%%**********************]  1 of 1 completed"
     ]
    },
    {
     "name": "stdout",
     "output_type": "stream",
     "text": [
      "177 BREA\n"
     ]
    },
    {
     "name": "stderr",
     "output_type": "stream",
     "text": [
      "\n",
      "[*********************100%%**********************]  1 of 1 completed"
     ]
    },
    {
     "name": "stdout",
     "output_type": "stream",
     "text": [
      "178 GNLX\n"
     ]
    },
    {
     "name": "stderr",
     "output_type": "stream",
     "text": [
      "\n",
      "[*********************100%%**********************]  1 of 1 completed"
     ]
    },
    {
     "name": "stdout",
     "output_type": "stream",
     "text": [
      "179 QSG\n"
     ]
    },
    {
     "name": "stderr",
     "output_type": "stream",
     "text": [
      "\n",
      "[*********************100%%**********************]  1 of 1 completed"
     ]
    },
    {
     "name": "stdout",
     "output_type": "stream",
     "text": [
      "180 CVKD\n"
     ]
    },
    {
     "name": "stderr",
     "output_type": "stream",
     "text": [
      "\n",
      "[*********************100%%**********************]  1 of 1 completed"
     ]
    },
    {
     "name": "stdout",
     "output_type": "stream",
     "text": [
      "181 SKWD\n"
     ]
    },
    {
     "name": "stderr",
     "output_type": "stream",
     "text": [
      "\n",
      "[*********************100%%**********************]  1 of 1 completed"
     ]
    },
    {
     "name": "stdout",
     "output_type": "stream",
     "text": [
      "182 ISRL\n"
     ]
    },
    {
     "name": "stderr",
     "output_type": "stream",
     "text": [
      "\n",
      "[*********************100%%**********************]  1 of 1 completed"
     ]
    },
    {
     "name": "stdout",
     "output_type": "stream",
     "text": [
      "183 MGOL\n"
     ]
    },
    {
     "name": "stderr",
     "output_type": "stream",
     "text": [
      "\n"
     ]
    }
   ],
   "source": [
    "ALL_TICKERS = list(stacked_ipos_df[\"Symbol\"])\n",
    "#after some sort of merger/acquisiton, PTHR has become HOVR\n",
    "PTHR_index = ALL_TICKERS.index(\"PTHR\")\n",
    "ALL_TICKERS[PTHR_index] = \"HOVR\"\n",
    "stocks_df = pd.DataFrame({'A' : []})\n",
    "\n",
    "for i,ticker in enumerate(ALL_TICKERS):\n",
    "  print(i,ticker)\n",
    "\n",
    "  # Work with stock prices\n",
    "  historyPrices = yf.download(tickers = ticker,\n",
    "                     period = \"max\",\n",
    "                     interval = \"1d\")\n",
    "\n",
    "  # generate features for historical prices, and what we want to predict\n",
    "  historyPrices['Ticker'] = ticker\n",
    "  historyPrices['Year']= historyPrices.index.year\n",
    "  historyPrices['Month'] = historyPrices.index.month\n",
    "  historyPrices['Weekday'] = historyPrices.index.weekday\n",
    "  historyPrices['Date'] = historyPrices.index.date\n",
    "\n",
    "  # future returns\n",
    "  for i in reversed(range(-30,0)):\n",
    "    historyPrices['growth_future_'+str(i*-1)+'d'] = historyPrices['Adj Close'].shift(i) / historyPrices['Adj Close']\n",
    "\n",
    "  # Technical indicators\n",
    "  # SimpleMovingAverage 10 days and 20 days\n",
    "  #historyPrices['SMA10']= historyPrices['Close'].rolling(10).mean()\n",
    "  #historyPrices['SMA20']= historyPrices['Close'].rolling(20).mean()\n",
    "  #historyPrices['growing_moving_average'] = np.where(historyPrices['SMA10'] > historyPrices['SMA20'], 1, 0)\n",
    "  #historyPrices['high_minus_low_relative'] = (historyPrices.High - historyPrices.Low) / historyPrices['Adj Close']\n",
    "\n",
    "  # 30d rolling volatility : https://ycharts.com/glossary/terms/rolling_vol_30\n",
    "  #historyPrices['volatility'] =   historyPrices['Adj Close'].rolling(30).std() * np.sqrt(252)\n",
    "\n",
    "  # what we want to predict\n",
    "  #historyPrices['is_positive_growth_5d_future'] = np.where(historyPrices['growth_future_5d'] > 1, 1, 0)\n",
    "\n",
    "  # sleep 1 sec between downloads - not to overload the API server\n",
    "  time.sleep(1)\n",
    "\n",
    "\n",
    "  if stocks_df.empty:\n",
    "    stocks_df = historyPrices\n",
    "  else:\n",
    "    stocks_df = pd.concat([stocks_df, historyPrices], ignore_index=True)"
   ]
  },
  {
   "cell_type": "code",
   "execution_count": 12,
   "metadata": {},
   "outputs": [
    {
     "data": {
      "text/plain": [
       "'growth_future_30d'"
      ]
     },
     "execution_count": 12,
     "metadata": {},
     "output_type": "execute_result"
    }
   ],
   "source": [
    "cols = [i for i in stocks_df.keys() if i.find('growth')>=0]\n",
    "stocks_df_growth = stocks_df[cols]\n",
    "stocks_df_growth_desc = stocks_df_growth.describe()\n",
    "stocks_df_growth_desc.loc['75%'].idxmax()"
   ]
  },
  {
   "cell_type": "markdown",
   "metadata": {},
   "source": [
    "---\n",
    "### **Question 3: Is Growth Concentrated in the Largest Stocks?**\n",
    "\n",
    "**Get the share of days (percentage as int) when Large Stocks outperform (growth_7d - growth over 7 periods back) the Largest stocks?**   \n",
    "\n",
    "\n",
    "Reuse [Code Snippet 5] to obtain OHLCV stats for 33 stocks   \n",
    "for 10 full years of data (2014-01-01 to 2023-12-31). You'll need to download slightly more data (7 periods before 2014-01-01 to calculate the growth_7d for the first 6 days correctly):  \n",
    "\n",
    "`US_STOCKS = ['MSFT', 'AAPL', 'GOOG', 'NVDA', 'AMZN', 'META', 'BRK-B', 'LLY', 'AVGO','V', 'JPM']`  \n",
    "\n",
    "`EU_STOCKS = ['NVO','MC.PA', 'ASML', 'RMS.PA', 'OR.PA', 'SAP', 'ACN', 'TTE', 'SIE.DE','IDEXY','CDI.PA']`  \n",
    "\n",
    "`INDIA_STOCKS = ['RELIANCE.NS','TCS.NS','HDB','BHARTIARTL.NS','IBN','SBIN.NS','LICI.NS','INFY','ITC.NS','HINDUNILVR.NS','LT.NS']`  \n",
    "\n",
    "`LARGEST_STOCKS = US_STOCKS + EU_STOCKS + INDIA_STOCKS`  \n",
    "<br/>\n",
    "\n",
    "Now let's add the top 12-22 stocks (as of end-April 2024):\n",
    "<br/>\n",
    "\n",
    "`NEW_US = ['TSLA','WMT','XOM','UNH','MA','PG','JNJ','MRK','HD','COST','ORCL']`  \n",
    "\n",
    "`NEW_EU = ['PRX.AS','CDI.PA','AIR.PA','SU.PA','ETN','SNY','BUD','DTE.DE','ALV.DE','MDT','AI.PA','EL.PA']`  \n",
    "\n",
    "`NEW_INDIA = ['BAJFINANCE.NS','MARUTI.NS','HCLTECH.NS','TATAMOTORS.NS','SUNPHARMA.NS','ONGC.NS','ADANIENT.NS','ADANIENT.NS','NTPC.NS','KOTAKBANK.NS','TITAN.NS']`  \n",
    "\n",
    "`LARGE_STOCKS = NEW_EU + NEW_US + NEW_INDIA`  \n",
    "\n",
    "You should be able to obtain stats for 33 **LARGEST STOCKS** and 32 **LARGE STOCKS** (from the actual stats on Yahoo Finance)  \n",
    "\n",
    "Calculate  **`growth_7d`** for every stock and every day.  \n",
    "Get the average daily **`growth_7d`** for the **LARGEST_STOCKS group** vs. the **LARGE_STOCKS group**.  \n",
    "\n",
    "For example, for the first of data you should have:  \n",
    "| Date   |      ticker_category      |  growth_7d |\n",
    "|----------|:-------------:|------:|\n",
    "| 2014-01-01 |  LARGE | 1.011684 |\n",
    "| 2014-01-01 |   LARGEST   |   1.011797 |\n",
    "\n",
    "On that day, the LARGEST group was growing faster than LARGE one (new stocks).  \n",
    "\n",
    "Calculate the number of days when the **LARGE GROUP** (new smaller stocks) outperforms the **LARGEST GROUP**, divide it by the total number of trading days (which should be 2595 days), and convert it to a percentage (closest INTEGER value). For example, if you find that 1700 out of 2595 days meet this condition, it means that 1700/2595 = 0.655, or approximately 66% of days, the LARGE stocks were growing faster than the LARGEST ones. This suggests that you should consider extending your dataset with more stocks to seek higher growth.\n",
    "\n",
    "HINT: you can use pandas.pivot_table() to \"flatten\" the table (LARGE and LARGEST growth_7d as columns)\n"
   ]
  },
  {
   "cell_type": "code",
   "execution_count": 7,
   "metadata": {},
   "outputs": [
    {
     "name": "stdout",
     "output_type": "stream",
     "text": [
      "Num stocks in LARGEST STOCKS:  33\n",
      "Num stocks in LARGE STOCKS:  34\n"
     ]
    }
   ],
   "source": [
    "# GEt the LARGEST STOCK companies\n",
    "US_STOCKS = ['MSFT', 'AAPL', 'GOOG', 'NVDA', 'AMZN', 'META', 'BRK-B', 'LLY', 'AVGO','V', 'JPM'] #11\n",
    "\n",
    "EU_STOCKS = ['NVO','MC.PA', 'ASML', 'RMS.PA', 'OR.PA', 'SAP', 'ACN', 'TTE', 'SIE.DE','IDEXY','CDI.PA'] #11\n",
    "\n",
    "INDIA_STOCKS = ['RELIANCE.NS','TCS.NS','HDB','BHARTIARTL.NS','IBN','SBIN.NS','LICI.NS','INFY','ITC.NS','HINDUNILVR.NS','LT.NS'] #11\n",
    "\n",
    "LARGEST_STOCKS = US_STOCKS + EU_STOCKS + INDIA_STOCKS\n",
    "print('Num stocks in LARGEST STOCKS: ',len(LARGEST_STOCKS))\n",
    "\n",
    "NEW_US = ['TSLA','WMT','XOM','UNH','MA','PG','JNJ','MRK','HD','COST','ORCL'] #11\n",
    "\n",
    "NEW_EU = ['PRX.AS','CDI.PA','AIR.PA','SU.PA','ETN','SNY','BUD','DTE.DE','ALV.DE','MDT','AI.PA','EL.PA'] #12\n",
    "\n",
    "NEW_INDIA = ['BAJFINANCE.NS','MARUTI.NS','HCLTECH.NS','TATAMOTORS.NS','SUNPHARMA.NS','ONGC.NS','ADANIENT.NS','ADANIENT.NS','NTPC.NS','KOTAKBANK.NS','TITAN.NS'] #11\n",
    "\n",
    "LARGE_STOCKS = NEW_EU + NEW_US + NEW_INDIA\n",
    "print('Num stocks in LARGE STOCKS: ',len(LARGE_STOCKS))"
   ]
  },
  {
   "cell_type": "code",
   "execution_count": 8,
   "metadata": {},
   "outputs": [
    {
     "name": "stderr",
     "output_type": "stream",
     "text": [
      "[*********************100%%**********************]  33 of 33 completed\n"
     ]
    },
    {
     "name": "stdout",
     "output_type": "stream",
     "text": [
      "<class 'pandas.core.frame.DataFrame'>\n",
      "DatetimeIndex: 15966 entries, 1962-01-02 to 2024-05-09\n",
      "Columns: 198 entries, ('Adj Close', 'ADANIENT.NS') to ('Volume', 'XOM')\n",
      "dtypes: float64(198)\n",
      "memory usage: 24.2 MB\n"
     ]
    },
    {
     "name": "stderr",
     "output_type": "stream",
     "text": [
      "[*********************100%%**********************]  33 of 33 completed\n"
     ]
    },
    {
     "name": "stdout",
     "output_type": "stream",
     "text": [
      "<class 'pandas.core.frame.DataFrame'>\n",
      "DatetimeIndex: 13358 entries, 1972-06-01 to 2024-05-09\n",
      "Columns: 198 entries, ('Adj Close', 'AAPL') to ('Volume', 'V')\n",
      "dtypes: float64(198)\n",
      "memory usage: 20.3 MB\n"
     ]
    }
   ],
   "source": [
    "large_stocks_str = \" \".join(LARGE_STOCKS)\n",
    "large_ohlcv = yf.download(large_stocks_str, period=\"max\", #start=\"2014-01-01\", end=\"2023-12-31\",\n",
    "                          interval=\"1d\")\n",
    "large_ohlcv.info()\n",
    "\n",
    "largest_stocks_str = \" \".join(LARGEST_STOCKS)\n",
    "largest_ohlcv = yf.download(largest_stocks_str, period=\"max\", #start=\"2014-01-01\", end=\"2023-12-31\",\n",
    "                         interval=\"1d\") #period=\"max\",\n",
    "largest_ohlcv.info()"
   ]
  },
  {
   "cell_type": "code",
   "execution_count": 9,
   "metadata": {},
   "outputs": [
    {
     "data": {
      "text/plain": [
       "(Price         Adj Close                                                    \\\n",
       " Ticker      ADANIENT.NS       AI.PA      AIR.PA      ALV.DE BAJFINANCE.NS   \n",
       " Date                                                                        \n",
       " 1962-01-02          NaN         NaN         NaN         NaN           NaN   \n",
       " 1962-01-03          NaN         NaN         NaN         NaN           NaN   \n",
       " 1962-01-04          NaN         NaN         NaN         NaN           NaN   \n",
       " 1962-01-05          NaN         NaN         NaN         NaN           NaN   \n",
       " 1962-01-08          NaN         NaN         NaN         NaN           NaN   \n",
       " ...                 ...         ...         ...         ...           ...   \n",
       " 2024-05-03  2993.250000  180.619995  154.339996  250.820343   6931.500000   \n",
       " 2024-05-06  2874.649902  181.899994  156.660004  255.567139   6859.850098   \n",
       " 2024-05-07  2835.949951  183.979996  158.860001  258.700012   6872.549805   \n",
       " 2024-05-08  2860.550049  186.539993  161.520004  259.744293   6799.450195   \n",
       " 2024-05-09  2766.649902  187.360001  161.960007  262.700012   6605.149902   \n",
       " \n",
       " Price                                                            ...  \\\n",
       " Ticker            BUD CDI.PA        COST     DTE.DE       EL.PA  ...   \n",
       " Date                                                             ...   \n",
       " 1962-01-02        NaN    NaN         NaN        NaN         NaN  ...   \n",
       " 1962-01-03        NaN    NaN         NaN        NaN         NaN  ...   \n",
       " 1962-01-04        NaN    NaN         NaN        NaN         NaN  ...   \n",
       " 1962-01-05        NaN    NaN         NaN        NaN         NaN  ...   \n",
       " 1962-01-08        NaN    NaN         NaN        NaN         NaN  ...   \n",
       " ...               ...    ...         ...        ...         ...  ...   \n",
       " 2024-05-03  59.709999  738.5  743.900024  21.660000  193.715240  ...   \n",
       " 2024-05-06  59.590000  739.0  756.450012  21.740000  198.399994  ...   \n",
       " 2024-05-07  60.570000  741.0  771.309998  21.719999  204.800003  ...   \n",
       " 2024-05-08  62.990002  739.5  763.409973  21.639999  204.000000  ...   \n",
       " 2024-05-09  63.395000  737.5  772.409973  21.969999  205.399994  ...   \n",
       " \n",
       " Price                                                                    \\\n",
       " Ticker         PRX.AS        SNY       SU.PA SUNPHARMA.NS TATAMOTORS.NS   \n",
       " Date                                                                      \n",
       " 1962-01-02        NaN        NaN         NaN          NaN           NaN   \n",
       " 1962-01-03        NaN        NaN         NaN          NaN           NaN   \n",
       " 1962-01-04        NaN        NaN         NaN          NaN           NaN   \n",
       " 1962-01-05        NaN        NaN         NaN          NaN           NaN   \n",
       " 1962-01-08        NaN        NaN         NaN          NaN           NaN   \n",
       " ...               ...        ...         ...          ...           ...   \n",
       " 2024-05-03  33.250000  49.009998  216.300003  1511.150024   1013.400024   \n",
       " 2024-05-06  33.665001  49.330002  219.600006  1529.150024   1016.200012   \n",
       " 2024-05-07  33.220001  49.570000  221.500000  1515.349976    988.549988   \n",
       " 2024-05-08  33.075001  50.099998  226.399994  1521.750000   1012.099976   \n",
       " 2024-05-09  33.619999  48.459999  228.649994  1494.650024   1030.300049   \n",
       " \n",
       " Price                                                                   \n",
       " Ticker         TITAN.NS        TSLA         UNH        WMT         XOM  \n",
       " Date                                                                    \n",
       " 1962-01-02          NaN         NaN         NaN        NaN    0.094902  \n",
       " 1962-01-03          NaN         NaN         NaN        NaN    0.096311  \n",
       " 1962-01-04          NaN         NaN         NaN        NaN    0.096546  \n",
       " 1962-01-05          NaN         NaN         NaN        NaN    0.094432  \n",
       " 1962-01-08          NaN         NaN         NaN        NaN    0.094197  \n",
       " ...                 ...         ...         ...        ...         ...  \n",
       " 2024-05-03  3533.899902  181.190002  492.450012  59.820000  116.000000  \n",
       " 2024-05-06  3280.149902  184.759995  494.380005  59.869999  116.750000  \n",
       " 2024-05-07  3270.899902  177.809998  500.959991  60.619999  116.169998  \n",
       " 2024-05-08  3259.850098  174.720001  503.209991  60.299999  116.150002  \n",
       " 2024-05-09  3245.699951  173.740005  505.579987  60.375000  117.584999  \n",
       " \n",
       " [15966 rows x 33 columns],\n",
       " Price        Adj Close                                                   \\\n",
       " Ticker            AAPL         ACN        AMZN        ASML         AVGO   \n",
       " Date                                                                      \n",
       " 1972-06-01         NaN         NaN         NaN         NaN          NaN   \n",
       " 1972-06-02         NaN         NaN         NaN         NaN          NaN   \n",
       " 1972-06-05         NaN         NaN         NaN         NaN          NaN   \n",
       " 1972-06-06         NaN         NaN         NaN         NaN          NaN   \n",
       " 1972-06-07         NaN         NaN         NaN         NaN          NaN   \n",
       " ...                ...         ...         ...         ...          ...   \n",
       " 2024-05-03  183.380005  303.709991  186.210007  901.630005  1278.109985   \n",
       " 2024-05-06  181.710007  306.059998  188.699997  916.919983  1310.310059   \n",
       " 2024-05-07  182.399994  310.660004  188.759995  908.219971  1303.109985   \n",
       " 2024-05-08  182.740005  311.989990  188.000000  911.469971  1325.369995   \n",
       " 2024-05-09  183.449997  304.994995  188.960007  915.440002  1307.660034   \n",
       " \n",
       " Price                                                               ...  \\\n",
       " Ticker     BHARTIARTL.NS       BRK-B CDI.PA        GOOG        HDB  ...   \n",
       " Date                                                                ...   \n",
       " 1972-06-01           NaN         NaN    NaN         NaN        NaN  ...   \n",
       " 1972-06-02           NaN         NaN    NaN         NaN        NaN  ...   \n",
       " 1972-06-05           NaN         NaN    NaN         NaN        NaN  ...   \n",
       " 1972-06-06           NaN         NaN    NaN         NaN        NaN  ...   \n",
       " 1972-06-07           NaN         NaN    NaN         NaN        NaN  ...   \n",
       " ...                  ...         ...    ...         ...        ...  ...   \n",
       " 2024-05-03   1277.400024  400.869995  738.5  168.990005  58.509998  ...   \n",
       " 2024-05-06   1283.400024  404.920013  739.0  169.830002  58.080002  ...   \n",
       " 2024-05-07   1286.150024  406.140015  741.0  172.979996  56.759998  ...   \n",
       " 2024-05-08   1288.599976  406.369995  739.5  171.160004  56.070000  ...   \n",
       " 2024-05-09   1275.449951  407.765015  737.5  170.220001  55.363499  ...   \n",
       " \n",
       " Price                                                                \\\n",
       " Ticker             NVO       OR.PA  RELIANCE.NS  RMS.PA         SAP   \n",
       " Date                                                                  \n",
       " 1972-06-01         NaN         NaN          NaN     NaN         NaN   \n",
       " 1972-06-02         NaN         NaN          NaN     NaN         NaN   \n",
       " 1972-06-05         NaN         NaN          NaN     NaN         NaN   \n",
       " 1972-06-06         NaN         NaN          NaN     NaN         NaN   \n",
       " 1972-06-07         NaN         NaN          NaN     NaN         NaN   \n",
       " ...                ...         ...          ...     ...         ...   \n",
       " 2024-05-03  123.050003  440.899994  2868.000000  2285.0  183.449997   \n",
       " 2024-05-06  124.589996  443.000000  2839.050049  2274.0  185.410004   \n",
       " 2024-05-07  127.290001  444.899994  2802.949951  2294.0  187.539993   \n",
       " 2024-05-08  126.690002  447.049988  2837.100098  2305.0  190.309998   \n",
       " 2024-05-09  127.449997  453.299988  2788.250000  2300.0  191.149994   \n",
       " \n",
       " Price                                                                   \n",
       " Ticker         SBIN.NS      SIE.DE       TCS.NS        TTE           V  \n",
       " Date                                                                    \n",
       " 1972-06-01         NaN         NaN          NaN        NaN         NaN  \n",
       " 1972-06-02         NaN         NaN          NaN        NaN         NaN  \n",
       " 1972-06-05         NaN         NaN          NaN        NaN         NaN  \n",
       " 1972-06-06         NaN         NaN          NaN        NaN         NaN  \n",
       " 1972-06-07         NaN         NaN          NaN        NaN         NaN  \n",
       " ...                ...         ...          ...        ...         ...  \n",
       " 2024-05-03  831.450012  177.619995  3843.399902  71.629997  268.489990  \n",
       " 2024-05-06  807.799988  179.360001  3921.050049  72.029999  272.670013  \n",
       " 2024-05-07  801.900024  180.139999  3978.949951  71.940002  276.459991  \n",
       " 2024-05-08  810.799988  181.580002  3976.949951  72.150002  277.190002  \n",
       " 2024-05-09  819.799988  184.220001  3960.199951  73.470001  277.760010  \n",
       " \n",
       " [13358 rows x 33 columns])"
      ]
     },
     "execution_count": 9,
     "metadata": {},
     "output_type": "execute_result"
    }
   ],
   "source": [
    "# Keep only the Adj Close\n",
    "large_ohlcv =large_ohlcv.loc[:, ['Adj Close']]\n",
    "largest_ohlcv =largest_ohlcv.loc[:, ['Adj Close']]\n",
    "large_ohlcv,largest_ohlcv"
   ]
  },
  {
   "cell_type": "code",
   "execution_count": 10,
   "metadata": {},
   "outputs": [
    {
     "data": {
      "text/html": [
       "<div>\n",
       "<style scoped>\n",
       "    .dataframe tbody tr th:only-of-type {\n",
       "        vertical-align: middle;\n",
       "    }\n",
       "\n",
       "    .dataframe tbody tr th {\n",
       "        vertical-align: top;\n",
       "    }\n",
       "\n",
       "    .dataframe thead tr th {\n",
       "        text-align: left;\n",
       "    }\n",
       "\n",
       "    .dataframe thead tr:last-of-type th {\n",
       "        text-align: right;\n",
       "    }\n",
       "</style>\n",
       "<table border=\"1\" class=\"dataframe\">\n",
       "  <thead>\n",
       "    <tr>\n",
       "      <th></th>\n",
       "      <th colspan=\"10\" halign=\"left\">Adj Close</th>\n",
       "      <th>...</th>\n",
       "      <th colspan=\"10\" halign=\"left\">growth_7d</th>\n",
       "    </tr>\n",
       "    <tr>\n",
       "      <th>Ticker</th>\n",
       "      <th>AAPL</th>\n",
       "      <th>ACN</th>\n",
       "      <th>AMZN</th>\n",
       "      <th>ASML</th>\n",
       "      <th>AVGO</th>\n",
       "      <th>BHARTIARTL.NS</th>\n",
       "      <th>BRK-B</th>\n",
       "      <th>CDI.PA</th>\n",
       "      <th>GOOG</th>\n",
       "      <th>HDB</th>\n",
       "      <th>...</th>\n",
       "      <th>NVO</th>\n",
       "      <th>OR.PA</th>\n",
       "      <th>RELIANCE.NS</th>\n",
       "      <th>RMS.PA</th>\n",
       "      <th>SAP</th>\n",
       "      <th>SBIN.NS</th>\n",
       "      <th>SIE.DE</th>\n",
       "      <th>TCS.NS</th>\n",
       "      <th>TTE</th>\n",
       "      <th>V</th>\n",
       "    </tr>\n",
       "    <tr>\n",
       "      <th>Date</th>\n",
       "      <th></th>\n",
       "      <th></th>\n",
       "      <th></th>\n",
       "      <th></th>\n",
       "      <th></th>\n",
       "      <th></th>\n",
       "      <th></th>\n",
       "      <th></th>\n",
       "      <th></th>\n",
       "      <th></th>\n",
       "      <th></th>\n",
       "      <th></th>\n",
       "      <th></th>\n",
       "      <th></th>\n",
       "      <th></th>\n",
       "      <th></th>\n",
       "      <th></th>\n",
       "      <th></th>\n",
       "      <th></th>\n",
       "      <th></th>\n",
       "      <th></th>\n",
       "    </tr>\n",
       "  </thead>\n",
       "  <tbody>\n",
       "    <tr>\n",
       "      <th>1972-06-01</th>\n",
       "      <td>NaN</td>\n",
       "      <td>NaN</td>\n",
       "      <td>NaN</td>\n",
       "      <td>NaN</td>\n",
       "      <td>NaN</td>\n",
       "      <td>NaN</td>\n",
       "      <td>NaN</td>\n",
       "      <td>NaN</td>\n",
       "      <td>NaN</td>\n",
       "      <td>NaN</td>\n",
       "      <td>...</td>\n",
       "      <td>NaN</td>\n",
       "      <td>NaN</td>\n",
       "      <td>NaN</td>\n",
       "      <td>NaN</td>\n",
       "      <td>NaN</td>\n",
       "      <td>NaN</td>\n",
       "      <td>NaN</td>\n",
       "      <td>NaN</td>\n",
       "      <td>NaN</td>\n",
       "      <td>NaN</td>\n",
       "    </tr>\n",
       "    <tr>\n",
       "      <th>1972-06-02</th>\n",
       "      <td>NaN</td>\n",
       "      <td>NaN</td>\n",
       "      <td>NaN</td>\n",
       "      <td>NaN</td>\n",
       "      <td>NaN</td>\n",
       "      <td>NaN</td>\n",
       "      <td>NaN</td>\n",
       "      <td>NaN</td>\n",
       "      <td>NaN</td>\n",
       "      <td>NaN</td>\n",
       "      <td>...</td>\n",
       "      <td>NaN</td>\n",
       "      <td>NaN</td>\n",
       "      <td>NaN</td>\n",
       "      <td>NaN</td>\n",
       "      <td>NaN</td>\n",
       "      <td>NaN</td>\n",
       "      <td>NaN</td>\n",
       "      <td>NaN</td>\n",
       "      <td>NaN</td>\n",
       "      <td>NaN</td>\n",
       "    </tr>\n",
       "    <tr>\n",
       "      <th>1972-06-05</th>\n",
       "      <td>NaN</td>\n",
       "      <td>NaN</td>\n",
       "      <td>NaN</td>\n",
       "      <td>NaN</td>\n",
       "      <td>NaN</td>\n",
       "      <td>NaN</td>\n",
       "      <td>NaN</td>\n",
       "      <td>NaN</td>\n",
       "      <td>NaN</td>\n",
       "      <td>NaN</td>\n",
       "      <td>...</td>\n",
       "      <td>NaN</td>\n",
       "      <td>NaN</td>\n",
       "      <td>NaN</td>\n",
       "      <td>NaN</td>\n",
       "      <td>NaN</td>\n",
       "      <td>NaN</td>\n",
       "      <td>NaN</td>\n",
       "      <td>NaN</td>\n",
       "      <td>NaN</td>\n",
       "      <td>NaN</td>\n",
       "    </tr>\n",
       "    <tr>\n",
       "      <th>1972-06-06</th>\n",
       "      <td>NaN</td>\n",
       "      <td>NaN</td>\n",
       "      <td>NaN</td>\n",
       "      <td>NaN</td>\n",
       "      <td>NaN</td>\n",
       "      <td>NaN</td>\n",
       "      <td>NaN</td>\n",
       "      <td>NaN</td>\n",
       "      <td>NaN</td>\n",
       "      <td>NaN</td>\n",
       "      <td>...</td>\n",
       "      <td>NaN</td>\n",
       "      <td>NaN</td>\n",
       "      <td>NaN</td>\n",
       "      <td>NaN</td>\n",
       "      <td>NaN</td>\n",
       "      <td>NaN</td>\n",
       "      <td>NaN</td>\n",
       "      <td>NaN</td>\n",
       "      <td>NaN</td>\n",
       "      <td>NaN</td>\n",
       "    </tr>\n",
       "    <tr>\n",
       "      <th>1972-06-07</th>\n",
       "      <td>NaN</td>\n",
       "      <td>NaN</td>\n",
       "      <td>NaN</td>\n",
       "      <td>NaN</td>\n",
       "      <td>NaN</td>\n",
       "      <td>NaN</td>\n",
       "      <td>NaN</td>\n",
       "      <td>NaN</td>\n",
       "      <td>NaN</td>\n",
       "      <td>NaN</td>\n",
       "      <td>...</td>\n",
       "      <td>NaN</td>\n",
       "      <td>NaN</td>\n",
       "      <td>NaN</td>\n",
       "      <td>NaN</td>\n",
       "      <td>NaN</td>\n",
       "      <td>NaN</td>\n",
       "      <td>NaN</td>\n",
       "      <td>NaN</td>\n",
       "      <td>NaN</td>\n",
       "      <td>NaN</td>\n",
       "    </tr>\n",
       "  </tbody>\n",
       "</table>\n",
       "<p>5 rows × 66 columns</p>\n",
       "</div>"
      ],
      "text/plain": [
       "           Adj Close                                                         \\\n",
       "Ticker          AAPL ACN AMZN ASML AVGO BHARTIARTL.NS BRK-B CDI.PA GOOG HDB   \n",
       "Date                                                                          \n",
       "1972-06-01       NaN NaN  NaN  NaN  NaN           NaN   NaN    NaN  NaN NaN   \n",
       "1972-06-02       NaN NaN  NaN  NaN  NaN           NaN   NaN    NaN  NaN NaN   \n",
       "1972-06-05       NaN NaN  NaN  NaN  NaN           NaN   NaN    NaN  NaN NaN   \n",
       "1972-06-06       NaN NaN  NaN  NaN  NaN           NaN   NaN    NaN  NaN NaN   \n",
       "1972-06-07       NaN NaN  NaN  NaN  NaN           NaN   NaN    NaN  NaN NaN   \n",
       "\n",
       "            ... growth_7d                                                     \\\n",
       "Ticker      ...       NVO OR.PA RELIANCE.NS RMS.PA SAP SBIN.NS SIE.DE TCS.NS   \n",
       "Date        ...                                                                \n",
       "1972-06-01  ...       NaN   NaN         NaN    NaN NaN     NaN    NaN    NaN   \n",
       "1972-06-02  ...       NaN   NaN         NaN    NaN NaN     NaN    NaN    NaN   \n",
       "1972-06-05  ...       NaN   NaN         NaN    NaN NaN     NaN    NaN    NaN   \n",
       "1972-06-06  ...       NaN   NaN         NaN    NaN NaN     NaN    NaN    NaN   \n",
       "1972-06-07  ...       NaN   NaN         NaN    NaN NaN     NaN    NaN    NaN   \n",
       "\n",
       "                    \n",
       "Ticker     TTE   V  \n",
       "Date                \n",
       "1972-06-01 NaN NaN  \n",
       "1972-06-02 NaN NaN  \n",
       "1972-06-05 NaN NaN  \n",
       "1972-06-06 NaN NaN  \n",
       "1972-06-07 NaN NaN  \n",
       "\n",
       "[5 rows x 66 columns]"
      ]
     },
     "execution_count": 10,
     "metadata": {},
     "output_type": "execute_result"
    }
   ],
   "source": [
    "large_ohlcv = pd.concat([large_ohlcv,\n",
    "                         pd.concat({f'growth_7d': large_ohlcv['Adj Close'] / large_ohlcv['Adj Close'].shift(7)}, axis=1)\n",
    "                         ], axis=1)\n",
    "largest_ohlcv = pd.concat([largest_ohlcv,\n",
    "                         pd.concat({f'growth_7d': largest_ohlcv['Adj Close'] / largest_ohlcv['Adj Close'].shift(7)}, axis=1)\n",
    "                         ], axis=1)\n",
    "\n",
    "large_ohlcv.head()\n",
    "largest_ohlcv.head()"
   ]
  },
  {
   "cell_type": "code",
   "execution_count": 11,
   "metadata": {},
   "outputs": [
    {
     "name": "stdout",
     "output_type": "stream",
     "text": [
      "15966\n"
     ]
    }
   ],
   "source": [
    "count_days=len(large_ohlcv)\n",
    "print(count_days)"
   ]
  },
  {
   "cell_type": "code",
   "execution_count": 12,
   "metadata": {},
   "outputs": [
    {
     "data": {
      "text/html": [
       "<div>\n",
       "<style scoped>\n",
       "    .dataframe tbody tr th:only-of-type {\n",
       "        vertical-align: middle;\n",
       "    }\n",
       "\n",
       "    .dataframe tbody tr th {\n",
       "        vertical-align: top;\n",
       "    }\n",
       "\n",
       "    .dataframe thead tr th {\n",
       "        text-align: left;\n",
       "    }\n",
       "\n",
       "    .dataframe thead tr:last-of-type th {\n",
       "        text-align: right;\n",
       "    }\n",
       "</style>\n",
       "<table border=\"1\" class=\"dataframe\">\n",
       "  <thead>\n",
       "    <tr>\n",
       "      <th></th>\n",
       "      <th colspan=\"10\" halign=\"left\">Adj Close</th>\n",
       "      <th>...</th>\n",
       "      <th colspan=\"10\" halign=\"left\">growth_7d</th>\n",
       "    </tr>\n",
       "    <tr>\n",
       "      <th>Ticker</th>\n",
       "      <th>ADANIENT.NS</th>\n",
       "      <th>AI.PA</th>\n",
       "      <th>AIR.PA</th>\n",
       "      <th>ALV.DE</th>\n",
       "      <th>BAJFINANCE.NS</th>\n",
       "      <th>BUD</th>\n",
       "      <th>CDI.PA</th>\n",
       "      <th>COST</th>\n",
       "      <th>DTE.DE</th>\n",
       "      <th>EL.PA</th>\n",
       "      <th>...</th>\n",
       "      <th>PRX.AS</th>\n",
       "      <th>SNY</th>\n",
       "      <th>SU.PA</th>\n",
       "      <th>SUNPHARMA.NS</th>\n",
       "      <th>TATAMOTORS.NS</th>\n",
       "      <th>TITAN.NS</th>\n",
       "      <th>TSLA</th>\n",
       "      <th>UNH</th>\n",
       "      <th>WMT</th>\n",
       "      <th>XOM</th>\n",
       "    </tr>\n",
       "    <tr>\n",
       "      <th>Date</th>\n",
       "      <th></th>\n",
       "      <th></th>\n",
       "      <th></th>\n",
       "      <th></th>\n",
       "      <th></th>\n",
       "      <th></th>\n",
       "      <th></th>\n",
       "      <th></th>\n",
       "      <th></th>\n",
       "      <th></th>\n",
       "      <th></th>\n",
       "      <th></th>\n",
       "      <th></th>\n",
       "      <th></th>\n",
       "      <th></th>\n",
       "      <th></th>\n",
       "      <th></th>\n",
       "      <th></th>\n",
       "      <th></th>\n",
       "      <th></th>\n",
       "      <th></th>\n",
       "    </tr>\n",
       "  </thead>\n",
       "  <tbody>\n",
       "    <tr>\n",
       "      <th>1962-01-02</th>\n",
       "      <td>NaN</td>\n",
       "      <td>NaN</td>\n",
       "      <td>NaN</td>\n",
       "      <td>NaN</td>\n",
       "      <td>NaN</td>\n",
       "      <td>NaN</td>\n",
       "      <td>NaN</td>\n",
       "      <td>NaN</td>\n",
       "      <td>NaN</td>\n",
       "      <td>NaN</td>\n",
       "      <td>...</td>\n",
       "      <td>NaN</td>\n",
       "      <td>NaN</td>\n",
       "      <td>NaN</td>\n",
       "      <td>NaN</td>\n",
       "      <td>NaN</td>\n",
       "      <td>NaN</td>\n",
       "      <td>NaN</td>\n",
       "      <td>NaN</td>\n",
       "      <td>NaN</td>\n",
       "      <td>NaN</td>\n",
       "    </tr>\n",
       "    <tr>\n",
       "      <th>1962-01-03</th>\n",
       "      <td>NaN</td>\n",
       "      <td>NaN</td>\n",
       "      <td>NaN</td>\n",
       "      <td>NaN</td>\n",
       "      <td>NaN</td>\n",
       "      <td>NaN</td>\n",
       "      <td>NaN</td>\n",
       "      <td>NaN</td>\n",
       "      <td>NaN</td>\n",
       "      <td>NaN</td>\n",
       "      <td>...</td>\n",
       "      <td>NaN</td>\n",
       "      <td>NaN</td>\n",
       "      <td>NaN</td>\n",
       "      <td>NaN</td>\n",
       "      <td>NaN</td>\n",
       "      <td>NaN</td>\n",
       "      <td>NaN</td>\n",
       "      <td>NaN</td>\n",
       "      <td>NaN</td>\n",
       "      <td>NaN</td>\n",
       "    </tr>\n",
       "    <tr>\n",
       "      <th>1962-01-04</th>\n",
       "      <td>NaN</td>\n",
       "      <td>NaN</td>\n",
       "      <td>NaN</td>\n",
       "      <td>NaN</td>\n",
       "      <td>NaN</td>\n",
       "      <td>NaN</td>\n",
       "      <td>NaN</td>\n",
       "      <td>NaN</td>\n",
       "      <td>NaN</td>\n",
       "      <td>NaN</td>\n",
       "      <td>...</td>\n",
       "      <td>NaN</td>\n",
       "      <td>NaN</td>\n",
       "      <td>NaN</td>\n",
       "      <td>NaN</td>\n",
       "      <td>NaN</td>\n",
       "      <td>NaN</td>\n",
       "      <td>NaN</td>\n",
       "      <td>NaN</td>\n",
       "      <td>NaN</td>\n",
       "      <td>NaN</td>\n",
       "    </tr>\n",
       "    <tr>\n",
       "      <th>1962-01-05</th>\n",
       "      <td>NaN</td>\n",
       "      <td>NaN</td>\n",
       "      <td>NaN</td>\n",
       "      <td>NaN</td>\n",
       "      <td>NaN</td>\n",
       "      <td>NaN</td>\n",
       "      <td>NaN</td>\n",
       "      <td>NaN</td>\n",
       "      <td>NaN</td>\n",
       "      <td>NaN</td>\n",
       "      <td>...</td>\n",
       "      <td>NaN</td>\n",
       "      <td>NaN</td>\n",
       "      <td>NaN</td>\n",
       "      <td>NaN</td>\n",
       "      <td>NaN</td>\n",
       "      <td>NaN</td>\n",
       "      <td>NaN</td>\n",
       "      <td>NaN</td>\n",
       "      <td>NaN</td>\n",
       "      <td>NaN</td>\n",
       "    </tr>\n",
       "    <tr>\n",
       "      <th>1962-01-08</th>\n",
       "      <td>NaN</td>\n",
       "      <td>NaN</td>\n",
       "      <td>NaN</td>\n",
       "      <td>NaN</td>\n",
       "      <td>NaN</td>\n",
       "      <td>NaN</td>\n",
       "      <td>NaN</td>\n",
       "      <td>NaN</td>\n",
       "      <td>NaN</td>\n",
       "      <td>NaN</td>\n",
       "      <td>...</td>\n",
       "      <td>NaN</td>\n",
       "      <td>NaN</td>\n",
       "      <td>NaN</td>\n",
       "      <td>NaN</td>\n",
       "      <td>NaN</td>\n",
       "      <td>NaN</td>\n",
       "      <td>NaN</td>\n",
       "      <td>NaN</td>\n",
       "      <td>NaN</td>\n",
       "      <td>NaN</td>\n",
       "    </tr>\n",
       "  </tbody>\n",
       "</table>\n",
       "<p>5 rows × 66 columns</p>\n",
       "</div>"
      ],
      "text/plain": [
       "             Adj Close                                                    \\\n",
       "Ticker     ADANIENT.NS AI.PA AIR.PA ALV.DE BAJFINANCE.NS BUD CDI.PA COST   \n",
       "Date                                                                       \n",
       "1962-01-02         NaN   NaN    NaN    NaN           NaN NaN    NaN  NaN   \n",
       "1962-01-03         NaN   NaN    NaN    NaN           NaN NaN    NaN  NaN   \n",
       "1962-01-04         NaN   NaN    NaN    NaN           NaN NaN    NaN  NaN   \n",
       "1962-01-05         NaN   NaN    NaN    NaN           NaN NaN    NaN  NaN   \n",
       "1962-01-08         NaN   NaN    NaN    NaN           NaN NaN    NaN  NaN   \n",
       "\n",
       "                         ... growth_7d                                       \\\n",
       "Ticker     DTE.DE EL.PA  ...    PRX.AS SNY SU.PA SUNPHARMA.NS TATAMOTORS.NS   \n",
       "Date                     ...                                                  \n",
       "1962-01-02    NaN   NaN  ...       NaN NaN   NaN          NaN           NaN   \n",
       "1962-01-03    NaN   NaN  ...       NaN NaN   NaN          NaN           NaN   \n",
       "1962-01-04    NaN   NaN  ...       NaN NaN   NaN          NaN           NaN   \n",
       "1962-01-05    NaN   NaN  ...       NaN NaN   NaN          NaN           NaN   \n",
       "1962-01-08    NaN   NaN  ...       NaN NaN   NaN          NaN           NaN   \n",
       "\n",
       "                                      \n",
       "Ticker     TITAN.NS TSLA UNH WMT XOM  \n",
       "Date                                  \n",
       "1962-01-02      NaN  NaN NaN NaN NaN  \n",
       "1962-01-03      NaN  NaN NaN NaN NaN  \n",
       "1962-01-04      NaN  NaN NaN NaN NaN  \n",
       "1962-01-05      NaN  NaN NaN NaN NaN  \n",
       "1962-01-08      NaN  NaN NaN NaN NaN  \n",
       "\n",
       "[5 rows x 66 columns]"
      ]
     },
     "execution_count": 12,
     "metadata": {},
     "output_type": "execute_result"
    }
   ],
   "source": [
    "large_ohlcv.head()"
   ]
  },
  {
   "cell_type": "code",
   "execution_count": 13,
   "metadata": {},
   "outputs": [
    {
     "name": "stderr",
     "output_type": "stream",
     "text": [
      "/tmp/ipykernel_2181/2591226654.py:2: FutureWarning: DataFrame.groupby with axis=1 is deprecated. Do `frame.T.groupby(...)` without axis instead.\n",
      "  large_ohlcv\n"
     ]
    },
    {
     "data": {
      "text/html": [
       "<div>\n",
       "<style scoped>\n",
       "    .dataframe tbody tr th:only-of-type {\n",
       "        vertical-align: middle;\n",
       "    }\n",
       "\n",
       "    .dataframe tbody tr th {\n",
       "        vertical-align: top;\n",
       "    }\n",
       "\n",
       "    .dataframe thead th {\n",
       "        text-align: right;\n",
       "    }\n",
       "</style>\n",
       "<table border=\"1\" class=\"dataframe\">\n",
       "  <thead>\n",
       "    <tr style=\"text-align: right;\">\n",
       "      <th></th>\n",
       "      <th>growth_7d_large</th>\n",
       "    </tr>\n",
       "    <tr>\n",
       "      <th>Date</th>\n",
       "      <th></th>\n",
       "    </tr>\n",
       "  </thead>\n",
       "  <tbody>\n",
       "    <tr>\n",
       "      <th>2014-01-01</th>\n",
       "      <td>1.009288</td>\n",
       "    </tr>\n",
       "    <tr>\n",
       "      <th>2014-01-02</th>\n",
       "      <td>0.999349</td>\n",
       "    </tr>\n",
       "    <tr>\n",
       "      <th>2014-01-03</th>\n",
       "      <td>0.999633</td>\n",
       "    </tr>\n",
       "    <tr>\n",
       "      <th>2014-01-06</th>\n",
       "      <td>0.990707</td>\n",
       "    </tr>\n",
       "    <tr>\n",
       "      <th>2014-01-07</th>\n",
       "      <td>0.990938</td>\n",
       "    </tr>\n",
       "  </tbody>\n",
       "</table>\n",
       "</div>"
      ],
      "text/plain": [
       "            growth_7d_large\n",
       "Date                       \n",
       "2014-01-01         1.009288\n",
       "2014-01-02         0.999349\n",
       "2014-01-03         0.999633\n",
       "2014-01-06         0.990707\n",
       "2014-01-07         0.990938"
      ]
     },
     "execution_count": 13,
     "metadata": {},
     "output_type": "execute_result"
    }
   ],
   "source": [
    "(\n",
    "        large_ohlcv\n",
    "        .loc[(large_ohlcv.index >= \"2014-01-01\") & (large_ohlcv.index <= \"2023-12-31\"),['growth_7d']]\n",
    "        .groupby(level=0, axis=1).mean()\n",
    "        .rename(columns={\"growth_7d\": \"growth_7d_large\"})\n",
    ").head()"
   ]
  },
  {
   "cell_type": "code",
   "execution_count": 14,
   "metadata": {},
   "outputs": [
    {
     "name": "stderr",
     "output_type": "stream",
     "text": [
      "/tmp/ipykernel_2181/727573092.py:5: FutureWarning: DataFrame.groupby with axis=1 is deprecated. Do `frame.T.groupby(...)` without axis instead.\n",
      "  large_ohlcv\n",
      "/tmp/ipykernel_2181/727573092.py:11: FutureWarning: DataFrame.groupby with axis=1 is deprecated. Do `frame.T.groupby(...)` without axis instead.\n",
      "  largest_ohlcv\n"
     ]
    },
    {
     "data": {
      "text/plain": [
       "growth_7d_large      1.009288\n",
       "growth_7d_largest    1.011797\n",
       "Name: 2014-01-01 00:00:00, dtype: float64"
      ]
     },
     "execution_count": 14,
     "metadata": {},
     "output_type": "execute_result"
    }
   ],
   "source": [
    "# Create a dataframe containing growth_7d for LARGE and LARGEST stocks\n",
    "(\n",
    "  pd.concat([\n",
    "    (\n",
    "        large_ohlcv\n",
    "        .loc[(large_ohlcv.index >= \"2014-01-01\") & (large_ohlcv.index <= \"2023-12-31\"),['growth_7d']]\n",
    "        .groupby(level=0, axis=1).mean()\n",
    "        .rename(columns={\"growth_7d\": \"growth_7d_large\"})\n",
    "    ),\n",
    "    (\n",
    "        largest_ohlcv\n",
    "        .loc[(largest_ohlcv.index >= \"2014-01-01\") & (largest_ohlcv.index <= \"2023-12-31\"),['growth_7d']]\n",
    "        .groupby(level=0, axis=1).mean()\n",
    "        .rename(columns={\"growth_7d\": \"growth_7d_largest\"})\n",
    "    )], axis=1\n",
    "  )\n",
    "  .loc['2014-01-01']\n",
    ")"
   ]
  },
  {
   "cell_type": "code",
   "execution_count": 15,
   "metadata": {},
   "outputs": [
    {
     "name": "stdout",
     "output_type": "stream",
     "text": [
      "Total days:  2595\n",
      "% days LARGE STOCKS is higher than LARGEST STOCKS:  47.0\n"
     ]
    },
    {
     "name": "stderr",
     "output_type": "stream",
     "text": [
      "/tmp/ipykernel_2181/1184923950.py:5: FutureWarning: DataFrame.groupby with axis=1 is deprecated. Do `frame.T.groupby(...)` without axis instead.\n",
      "  large_ohlcv\n",
      "/tmp/ipykernel_2181/1184923950.py:11: FutureWarning: DataFrame.groupby with axis=1 is deprecated. Do `frame.T.groupby(...)` without axis instead.\n",
      "  largest_ohlcv\n",
      "/tmp/ipykernel_2181/1184923950.py:2: FutureWarning: Series.__getitem__ treating keys as positions is deprecated. In a future version, integer keys will always be treated as labels (consistent with DataFrame behavior). To access a value by position, use `ser.iloc[pos]`\n",
      "  times_large_gt_largest = (\n"
     ]
    }
   ],
   "source": [
    "# Compare and extract how many times growth_7d for LARGE STOCKS is higher than for LARGEST STOCKS\n",
    "times_large_gt_largest = (\n",
    "  pd.concat([\n",
    "    (\n",
    "        large_ohlcv\n",
    "        .loc[(large_ohlcv.index >= \"2014-01-01\") & (large_ohlcv.index <= \"2023-12-31\"),['growth_7d']]\n",
    "        .groupby(level=0, axis=1).mean()\n",
    "        .rename(columns={\"growth_7d\": \"growth_7d_large\"})\n",
    "    ),\n",
    "    (\n",
    "        largest_ohlcv\n",
    "        .loc[(largest_ohlcv.index >= \"2014-01-01\") & (largest_ohlcv.index <= \"2023-12-31\"),['growth_7d']]\n",
    "        .groupby(level=0, axis=1).mean()\n",
    "        .rename(columns={\"growth_7d\": \"growth_7d_largest\"})\n",
    "    )], axis=1\n",
    "  )\n",
    "  .loc[lambda df: df['growth_7d_large'] > df['growth_7d_largest']]\n",
    "  .count()\n",
    ")[0]\n",
    "\n",
    "print(\"Total days: \",len(large_ohlcv.loc[(large_ohlcv.index >= \"2014-01-01\") & (large_ohlcv.index <= \"2023-12-31\")].index))\n",
    "print(\"% days LARGE STOCKS is higher than LARGEST STOCKS: \",np.rint((times_large_gt_largest / len(large_ohlcv.loc[(large_ohlcv.index >= \"2014-01-01\") & (large_ohlcv.index <= \"2023-12-31\")].index))*100))"
   ]
  },
  {
   "cell_type": "markdown",
   "metadata": {},
   "source": [
    "---\n",
    "### **Question 4: Trying Another Technical Indicators strategy**\n",
    "\n",
    "**What's the total gross profit (in THOUSANDS of $) you'll get from trading on CCI (no fees assumption)?**\n",
    "\n",
    "\n",
    "First, run the entire Colab to obtain the full DataFrame of data (after [Code Snippet 9]), and truncate it to the last full 10 years of data (2014-01-01 to 2023-12-31).  \n",
    "If you encounter any difficulties running the Colab - you can download it using this [link](https://drive.google.com/file/d/1m3Qisfs2XfWk6Sw_Uk5kHLWqwQ0q8SKb/view?usp=sharing).\n",
    "\n",
    "Let's assume you've learned about the awesome **CCI indicator** ([Commodity Channel Index](https://www.investopedia.com/terms/c/commoditychannelindex.asp)), and decided to use only it for your operations.  \n",
    "\n",
    "You defined the \"defensive\" value of a high threshould of 200, and you trade only on Fridays (`Date.dt.dayofweek()==4`).  \n",
    "\n",
    "That is, every time you see that CCI is >200 for any stock (out of those 33), you'll invest $1000 (each record when CCI>200) at Adj.Close price and hold it for 1 week (5 trading days) in order to sell at the Adj. Close price.  \n",
    "\n",
    "What's the expected gross profit (no fees) that you get in THOUSANDS $ (closest integer value) over many operations in 10 years?  \n",
    "One operation calculations: if you invested $1000 and received $1010 in 5 days - you add $10 to gross profit, if you received $980 - add -$20 to gross profit.  \n",
    "You need to sum these results over all trades (460 times in 10 years).  \n",
    "\n",
    "Additional:  \n",
    "  * Add an approximate fees calculation over the 460 trades from this calculator https://www.degiro.ie/fees/calculator (Product:\"Shares, USA and Canada;\" Amount per transaction: \"1000 EUR\"; Transactions per year: \"460\")  \n",
    "  * are you still profitable on those trades?"
   ]
  },
  {
   "cell_type": "code",
   "execution_count": 16,
   "metadata": {},
   "outputs": [
    {
     "name": "stdout",
     "output_type": "stream",
     "text": [
      "<class 'pandas.core.frame.DataFrame'>\n",
      "Index: 80762 entries, 7011 to 5342\n",
      "Columns: 202 entries, Open to growth_btc_usd_365d\n",
      "dtypes: datetime64[ns](3), float64(128), int32(64), int64(5), object(2)\n",
      "memory usage: 105.4+ MB\n"
     ]
    }
   ],
   "source": [
    "import pyarrow\n",
    "import fastparquet\n",
    "\n",
    "file = \"/workspaces/Stock_Markets_Analytics_ZoomCamp/data/stocks_df_combined_trunc_2014_2023.parquet.brotli\"\n",
    "df = pd.read_parquet(file, engine='pyarrow')\n",
    "df.info()"
   ]
  },
  {
   "cell_type": "code",
   "execution_count": 17,
   "metadata": {},
   "outputs": [
    {
     "name": "stdout",
     "output_type": "stream",
     "text": [
      "['Open', 'High', 'Low', 'Close', 'Adj Close_x', 'Volume', 'Ticker', 'Year', 'Month', 'Weekday', 'Date', 'growth_1d', 'growth_3d', 'growth_7d', 'growth_30d', 'growth_90d', 'growth_365d', 'growth_future_5d', 'SMA10', 'SMA20', 'growing_moving_average', 'high_minus_low_relative', 'volatility', 'is_positive_growth_5d_future', 'ticker_type', 'index_x', 'adx', 'adxr', 'apo', 'aroon_1', 'aroon_2', 'aroonosc', 'bop', 'cci', 'cmo', 'dx', 'macd', 'macdsignal', 'macdhist', 'macd_ext', 'macdsignal_ext', 'macdhist_ext', 'macd_fix', 'macdsignal_fix', 'macdhist_fix', 'mfi', 'minus_di', 'mom', 'plus_di', 'dm', 'ppo', 'roc', 'rocp', 'rocr', 'rocr100', 'rsi', 'slowk', 'slowd', 'fastk', 'fastd', 'fastk_rsi', 'fastd_rsi', 'trix', 'ultosc', 'willr', 'index_y', 'ad', 'adosc', 'obv', 'atr', 'natr', 'ht_dcperiod', 'ht_dcphase', 'ht_phasor_inphase', 'ht_phasor_quadrature', 'ht_sine_sine', 'ht_sine_leadsine', 'ht_trendmod', 'avgprice', 'medprice', 'typprice', 'wclprice', 'index', 'cdl2crows', 'cdl3blackrows', 'cdl3inside', 'cdl3linestrike', 'cdl3outside', 'cdl3starsinsouth', 'cdl3whitesoldiers', 'cdlabandonedbaby', 'cdladvancedblock', 'cdlbelthold', 'cdlbreakaway', 'cdlclosingmarubozu', 'cdlconcealbabyswall', 'cdlcounterattack', 'cdldarkcloudcover', 'cdldoji', 'cdldojistar', 'cdldragonflydoji', 'cdlengulfing', 'cdleveningdojistar', 'cdleveningstar', 'cdlgapsidesidewhite', 'cdlgravestonedoji', 'cdlhammer', 'cdlhangingman', 'cdlharami', 'cdlharamicross', 'cdlhighwave', 'cdlhikkake', 'cdlhikkakemod', 'cdlhomingpigeon', 'cdlidentical3crows', 'cdlinneck', 'cdlinvertedhammer', 'cdlkicking', 'cdlkickingbylength', 'cdlladderbottom', 'cdllongleggeddoji', 'cdllongline', 'cdlmarubozu', 'cdlmatchinglow', 'cdlmathold', 'cdlmorningdojistar', 'cdlmorningstar', 'cdlonneck', 'cdlpiercing', 'cdlrickshawman', 'cdlrisefall3methods', 'cdlseparatinglines', 'cdlshootingstar', 'cdlshortline', 'cdlspinningtop', 'cdlstalledpattern', 'cdlsticksandwich', 'cdltakuru', 'cdltasukigap', 'cdlthrusting', 'cdltristar', 'cdlunique3river', 'cdlupsidegap2crows', 'cdlxsidegap3methods', 'growth_dax_1d', 'growth_dax_3d', 'growth_dax_7d', 'growth_dax_30d', 'growth_dax_90d', 'growth_dax_365d', 'growth_snp500_1d', 'growth_snp500_3d', 'growth_snp500_7d', 'growth_snp500_30d', 'growth_snp500_90d', 'growth_snp500_365d', 'growth_dji_1d', 'growth_dji_3d', 'growth_dji_7d', 'growth_dji_30d', 'growth_dji_90d', 'growth_dji_365d', 'growth_epi_1d', 'growth_epi_3d', 'growth_epi_7d', 'growth_epi_30d', 'growth_epi_90d', 'growth_epi_365d', 'Quarter', 'gdppot_us_yoy', 'gdppot_us_qoq', 'cpi_core_yoy', 'cpi_core_mom', 'FEDFUNDS', 'DGS1', 'DGS5', 'DGS10', 'Adj Close_y', 'growth_gold_1d', 'growth_gold_3d', 'growth_gold_7d', 'growth_gold_30d', 'growth_gold_90d', 'growth_gold_365d', 'growth_wti_oil_1d', 'growth_wti_oil_3d', 'growth_wti_oil_7d', 'growth_wti_oil_30d', 'growth_wti_oil_90d', 'growth_wti_oil_365d', 'growth_brent_oil_1d', 'growth_brent_oil_3d', 'growth_brent_oil_7d', 'growth_brent_oil_30d', 'growth_brent_oil_90d', 'growth_brent_oil_365d', 'growth_btc_usd_1d', 'growth_btc_usd_3d', 'growth_btc_usd_7d', 'growth_btc_usd_30d', 'growth_btc_usd_90d', 'growth_btc_usd_365d']\n"
     ]
    }
   ],
   "source": [
    "print(list(df.columns))"
   ]
  },
  {
   "cell_type": "code",
   "execution_count": 35,
   "metadata": {},
   "outputs": [
    {
     "data": {
      "text/html": [
       "<div>\n",
       "<style scoped>\n",
       "    .dataframe tbody tr th:only-of-type {\n",
       "        vertical-align: middle;\n",
       "    }\n",
       "\n",
       "    .dataframe tbody tr th {\n",
       "        vertical-align: top;\n",
       "    }\n",
       "\n",
       "    .dataframe thead th {\n",
       "        text-align: right;\n",
       "    }\n",
       "</style>\n",
       "<table border=\"1\" class=\"dataframe\">\n",
       "  <thead>\n",
       "    <tr style=\"text-align: right;\">\n",
       "      <th></th>\n",
       "      <th>Open</th>\n",
       "      <th>High</th>\n",
       "      <th>Low</th>\n",
       "      <th>Close</th>\n",
       "      <th>Adj Close_x</th>\n",
       "      <th>Volume</th>\n",
       "      <th>Ticker</th>\n",
       "      <th>Year</th>\n",
       "      <th>Month</th>\n",
       "      <th>Weekday</th>\n",
       "      <th>...</th>\n",
       "      <th>growth_brent_oil_7d</th>\n",
       "      <th>growth_brent_oil_30d</th>\n",
       "      <th>growth_brent_oil_90d</th>\n",
       "      <th>growth_brent_oil_365d</th>\n",
       "      <th>growth_btc_usd_1d</th>\n",
       "      <th>growth_btc_usd_3d</th>\n",
       "      <th>growth_btc_usd_7d</th>\n",
       "      <th>growth_btc_usd_30d</th>\n",
       "      <th>growth_btc_usd_90d</th>\n",
       "      <th>growth_btc_usd_365d</th>\n",
       "    </tr>\n",
       "  </thead>\n",
       "  <tbody>\n",
       "    <tr>\n",
       "      <th>7011</th>\n",
       "      <td>37.349998</td>\n",
       "      <td>37.400002</td>\n",
       "      <td>37.099998</td>\n",
       "      <td>37.160000</td>\n",
       "      <td>31.233059</td>\n",
       "      <td>30632200.0</td>\n",
       "      <td>MSFT</td>\n",
       "      <td>2014</td>\n",
       "      <td>2014-01-01</td>\n",
       "      <td>3</td>\n",
       "      <td>...</td>\n",
       "      <td>0.964302</td>\n",
       "      <td>0.992998</td>\n",
       "      <td>0.970030</td>\n",
       "      <td>1.158676</td>\n",
       "      <td>NaN</td>\n",
       "      <td>NaN</td>\n",
       "      <td>NaN</td>\n",
       "      <td>NaN</td>\n",
       "      <td>NaN</td>\n",
       "      <td>NaN</td>\n",
       "    </tr>\n",
       "    <tr>\n",
       "      <th>7012</th>\n",
       "      <td>37.200001</td>\n",
       "      <td>37.220001</td>\n",
       "      <td>36.599998</td>\n",
       "      <td>36.910000</td>\n",
       "      <td>31.022930</td>\n",
       "      <td>31134800.0</td>\n",
       "      <td>MSFT</td>\n",
       "      <td>2014</td>\n",
       "      <td>2014-01-01</td>\n",
       "      <td>4</td>\n",
       "      <td>...</td>\n",
       "      <td>0.958139</td>\n",
       "      <td>0.984707</td>\n",
       "      <td>0.961500</td>\n",
       "      <td>1.143209</td>\n",
       "      <td>NaN</td>\n",
       "      <td>NaN</td>\n",
       "      <td>NaN</td>\n",
       "      <td>NaN</td>\n",
       "      <td>NaN</td>\n",
       "      <td>NaN</td>\n",
       "    </tr>\n",
       "    <tr>\n",
       "      <th>7013</th>\n",
       "      <td>36.849998</td>\n",
       "      <td>36.889999</td>\n",
       "      <td>36.110001</td>\n",
       "      <td>36.130001</td>\n",
       "      <td>30.367352</td>\n",
       "      <td>43603700.0</td>\n",
       "      <td>MSFT</td>\n",
       "      <td>2014</td>\n",
       "      <td>2014-01-01</td>\n",
       "      <td>0</td>\n",
       "      <td>...</td>\n",
       "      <td>0.953798</td>\n",
       "      <td>0.998223</td>\n",
       "      <td>0.968951</td>\n",
       "      <td>1.168236</td>\n",
       "      <td>NaN</td>\n",
       "      <td>NaN</td>\n",
       "      <td>NaN</td>\n",
       "      <td>NaN</td>\n",
       "      <td>NaN</td>\n",
       "      <td>NaN</td>\n",
       "    </tr>\n",
       "    <tr>\n",
       "      <th>7014</th>\n",
       "      <td>36.330002</td>\n",
       "      <td>36.490002</td>\n",
       "      <td>36.209999</td>\n",
       "      <td>36.410000</td>\n",
       "      <td>30.602673</td>\n",
       "      <td>35802800.0</td>\n",
       "      <td>MSFT</td>\n",
       "      <td>2014</td>\n",
       "      <td>2014-01-01</td>\n",
       "      <td>1</td>\n",
       "      <td>...</td>\n",
       "      <td>0.958653</td>\n",
       "      <td>0.993430</td>\n",
       "      <td>0.977598</td>\n",
       "      <td>1.097648</td>\n",
       "      <td>NaN</td>\n",
       "      <td>NaN</td>\n",
       "      <td>NaN</td>\n",
       "      <td>NaN</td>\n",
       "      <td>NaN</td>\n",
       "      <td>NaN</td>\n",
       "    </tr>\n",
       "    <tr>\n",
       "      <th>7015</th>\n",
       "      <td>36.000000</td>\n",
       "      <td>36.139999</td>\n",
       "      <td>35.580002</td>\n",
       "      <td>35.759998</td>\n",
       "      <td>30.056356</td>\n",
       "      <td>59971700.0</td>\n",
       "      <td>MSFT</td>\n",
       "      <td>2014</td>\n",
       "      <td>2014-01-01</td>\n",
       "      <td>2</td>\n",
       "      <td>...</td>\n",
       "      <td>0.955161</td>\n",
       "      <td>0.973383</td>\n",
       "      <td>0.974977</td>\n",
       "      <td>1.100781</td>\n",
       "      <td>NaN</td>\n",
       "      <td>NaN</td>\n",
       "      <td>NaN</td>\n",
       "      <td>NaN</td>\n",
       "      <td>NaN</td>\n",
       "      <td>NaN</td>\n",
       "    </tr>\n",
       "  </tbody>\n",
       "</table>\n",
       "<p>5 rows × 202 columns</p>\n",
       "</div>"
      ],
      "text/plain": [
       "           Open       High        Low      Close  Adj Close_x      Volume  \\\n",
       "7011  37.349998  37.400002  37.099998  37.160000    31.233059  30632200.0   \n",
       "7012  37.200001  37.220001  36.599998  36.910000    31.022930  31134800.0   \n",
       "7013  36.849998  36.889999  36.110001  36.130001    30.367352  43603700.0   \n",
       "7014  36.330002  36.490002  36.209999  36.410000    30.602673  35802800.0   \n",
       "7015  36.000000  36.139999  35.580002  35.759998    30.056356  59971700.0   \n",
       "\n",
       "     Ticker  Year      Month  Weekday  ... growth_brent_oil_7d  \\\n",
       "7011   MSFT  2014 2014-01-01        3  ...            0.964302   \n",
       "7012   MSFT  2014 2014-01-01        4  ...            0.958139   \n",
       "7013   MSFT  2014 2014-01-01        0  ...            0.953798   \n",
       "7014   MSFT  2014 2014-01-01        1  ...            0.958653   \n",
       "7015   MSFT  2014 2014-01-01        2  ...            0.955161   \n",
       "\n",
       "      growth_brent_oil_30d  growth_brent_oil_90d  growth_brent_oil_365d  \\\n",
       "7011              0.992998              0.970030               1.158676   \n",
       "7012              0.984707              0.961500               1.143209   \n",
       "7013              0.998223              0.968951               1.168236   \n",
       "7014              0.993430              0.977598               1.097648   \n",
       "7015              0.973383              0.974977               1.100781   \n",
       "\n",
       "      growth_btc_usd_1d  growth_btc_usd_3d  growth_btc_usd_7d  \\\n",
       "7011                NaN                NaN                NaN   \n",
       "7012                NaN                NaN                NaN   \n",
       "7013                NaN                NaN                NaN   \n",
       "7014                NaN                NaN                NaN   \n",
       "7015                NaN                NaN                NaN   \n",
       "\n",
       "      growth_btc_usd_30d  growth_btc_usd_90d  growth_btc_usd_365d  \n",
       "7011                 NaN                 NaN                  NaN  \n",
       "7012                 NaN                 NaN                  NaN  \n",
       "7013                 NaN                 NaN                  NaN  \n",
       "7014                 NaN                 NaN                  NaN  \n",
       "7015                 NaN                 NaN                  NaN  \n",
       "\n",
       "[5 rows x 202 columns]"
      ]
     },
     "execution_count": 35,
     "metadata": {},
     "output_type": "execute_result"
    }
   ],
   "source": [
    "df.head()"
   ]
  },
  {
   "cell_type": "code",
   "execution_count": 18,
   "metadata": {},
   "outputs": [],
   "source": [
    "# Define the start and end dates\n",
    "start_date = '2014-01-01'\n",
    "end_date = '2023-12-31'\n",
    "\n",
    "# Filter the DataFrame\n",
    "df_filtered = df[(df['Date'] >= start_date) & (df['Date'] <= end_date)]\n",
    "\n",
    "trades = df_filtered[(df_filtered['cci'] > 200) & (df_filtered['Date'].dt.dayofweek == 4)].copy()"
   ]
  },
  {
   "cell_type": "code",
   "execution_count": 19,
   "metadata": {},
   "outputs": [
    {
     "data": {
      "text/plain": [
       "460"
      ]
     },
     "execution_count": 19,
     "metadata": {},
     "output_type": "execute_result"
    }
   ],
   "source": [
    "len(trades)"
   ]
  },
  {
   "cell_type": "code",
   "execution_count": 20,
   "metadata": {},
   "outputs": [],
   "source": [
    "# Calculate the profit for each trade using growth_future_5d\n",
    "trades.loc[:, 'profit'] = 1000 * (trades['growth_future_5d'] - 1)\n",
    "\n",
    "# Sum up the profits and convert to thousands, then round\n",
    "total_profit_thousands = round(trades['profit'].sum() / 1000)"
   ]
  },
  {
   "cell_type": "code",
   "execution_count": 21,
   "metadata": {},
   "outputs": [
    {
     "data": {
      "text/plain": [
       "1"
      ]
     },
     "execution_count": 21,
     "metadata": {},
     "output_type": "execute_result"
    }
   ],
   "source": [
    "total_profit_thousands"
   ]
  },
  {
   "cell_type": "markdown",
   "metadata": {},
   "source": [
    "With calculator, the costs are about $2,000\n",
    "\n",
    "![fees](https://github.com/oussou-dev/Stock_Markets_Analytics_ZoomCamp/blob/main/img/fees_calculation.png?raw=true)"
   ]
  },
  {
   "cell_type": "markdown",
   "metadata": {},
   "source": [
    "---\n",
    "### **[EXPLORATORY] Question 5: Finding Your Strategy for IPOs**\n",
    "\n",
    "You've seen in the first questions that the median and average investments are negative in IPOs, and you can't blindly invest in all deals.  \n",
    "\n",
    "How would you correct/refine the approach?   \n",
    "\n",
    "Briefly describe the steps and the data you'll try to get (it should be generally feasible to do it from public sources - no access to internal data of companies)?  \n",
    "\n",
    "E.g. (some ideas) Do you want to focus on the specific vertical?   \n",
    "\n",
    "Do you want to build a smart comparison vs. existing stocks on the market?   \n",
    "\n",
    "Or you just will want to get some features (which features?) like total number of people in a company to find a segment of \"successful\" IPOs?"
   ]
  },
  {
   "cell_type": "markdown",
   "metadata": {},
   "source": [
    "To refine the approach for IPO investments, we can take several steps:\n",
    "\n",
    "1. **Sector Analysis**: Investigate specific sectors or industries that historically perform better in IPOs. This can involve analyzing trends, market demand, and growth potential within each sector. Publicly available data from financial news sources, industry reports, and market research firms can provide insights into sector performance.\n",
    "\n",
    "2. **Financial Metrics**: Focus on key financial metrics beyond just median and average investments. Look at metrics such as revenue growth, profit margins, earnings per share (EPS), and valuation multiples. Comparing these metrics against industry benchmarks and peer companies can help identify IPOs with strong financial fundamentals.\n",
    "\n",
    "3. **Management Team Evaluation**: Assess the quality and experience of the management team behind the IPO. Look for leadership with a track record of success in similar ventures or relevant industry experience. Publicly available information such as executive bios, past company performance, and industry reputation can aid in this evaluation.\n",
    "\n",
    "4. **Market Conditions**: Consider broader market conditions and sentiment. Evaluate factors such as overall economic health, market volatility, and investor sentiment towards IPOs. This can help gauge the timing of investments and whether market conditions are favorable for new offerings.\n",
    "\n",
    "5. **Regulatory and Legal Considerations**: Stay informed about regulatory changes and legal implications that may impact IPOs. This includes compliance requirements, regulatory scrutiny, and potential legal risks associated with the company or industry.\n",
    "\n",
    "6. **Comparative Analysis**: Conduct a comparative analysis of the IPO against existing publicly traded companies within the same sector. Compare financial performance, market positioning, competitive advantages, and growth prospects to identify potential outliers and assess relative value.\n",
    "\n",
    "7. **Qualitative Factors**: Incorporate qualitative factors such as product differentiation, market innovation, and competitive advantage. Analyze the company's business model, technology, intellectual property, and market positioning to assess long-term growth potential and sustainability.\n",
    "\n",
    "By incorporating these steps and leveraging publicly available data, we can refine the approach to IPO investments and make more informed decisions."
   ]
  },
  {
   "cell_type": "code",
   "execution_count": null,
   "metadata": {},
   "outputs": [],
   "source": []
  }
 ],
 "metadata": {
  "kernelspec": {
   "display_name": "Python 3",
   "language": "python",
   "name": "python3"
  },
  "language_info": {
   "codemirror_mode": {
    "name": "ipython",
    "version": 3
   },
   "file_extension": ".py",
   "mimetype": "text/x-python",
   "name": "python",
   "nbconvert_exporter": "python",
   "pygments_lexer": "ipython3",
   "version": "3.10.13"
  }
 },
 "nbformat": 4,
 "nbformat_minor": 2
}
