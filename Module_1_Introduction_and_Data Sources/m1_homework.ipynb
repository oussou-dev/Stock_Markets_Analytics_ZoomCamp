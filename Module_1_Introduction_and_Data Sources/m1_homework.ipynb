{
 "cells": [
  {
   "cell_type": "markdown",
   "metadata": {},
   "source": [
    "# **Module 1 Homework**"
   ]
  },
  {
   "cell_type": "markdown",
   "metadata": {},
   "source": [
    "In this homework, we're going to download finance data from various sources and make simple calculations/analysis.\n",
    "\n",
    "---"
   ]
  },
  {
   "cell_type": "markdown",
   "metadata": {},
   "source": [
    "## **Install**"
   ]
  },
  {
   "cell_type": "code",
   "execution_count": 7,
   "metadata": {},
   "outputs": [],
   "source": [
    "# !pip install yfinance\n",
    "# !pip install pandas_datareader"
   ]
  },
  {
   "cell_type": "markdown",
   "metadata": {},
   "source": [
    "## **Imports**"
   ]
  },
  {
   "cell_type": "code",
   "execution_count": 6,
   "metadata": {},
   "outputs": [],
   "source": [
    "import numpy as np\n",
    "import pandas as pd\n",
    "import yfinance as yf\n",
    "import pandas_datareader as pdr\n",
    "import time\n",
    "from datetime import date"
   ]
  },
  {
   "cell_type": "markdown",
   "metadata": {},
   "source": [
    "---\n",
    "## **Question 1: [Macro] Average growth of GDP in 2023**\n",
    "\n",
    "**What is the average growth (in %) of GDP in 2023?**\n",
    "\n",
    "Download the timeseries Real Gross Domestic Product (GDPC1) from FRED (https://fred.stlouisfed.org/series/GDPC1).   \n",
    "Calculate year-over-year (YoY) growth rate (that is, divide current value to one 4 quarters ago).   \n",
    "Find the average YoY growth in 2023 (average from 4 YoY numbers).  \n",
    "Round to 1 digit after the decimal point: e.g. if you get 5.66% growth => you should answer  5.7"
   ]
  },
  {
   "cell_type": "code",
   "execution_count": 8,
   "metadata": {},
   "outputs": [],
   "source": [
    "gdpc = pdr.DataReader(\"GDPC1\", \"fred\", start=\"2022-01-01\")"
   ]
  },
  {
   "cell_type": "code",
   "execution_count": 9,
   "metadata": {},
   "outputs": [],
   "source": [
    "gdpc['gdpc_us_yoy'] = gdpc.GDPC1/gdpc.GDPC1.shift(4)-1"
   ]
  },
  {
   "cell_type": "code",
   "execution_count": 10,
   "metadata": {},
   "outputs": [
    {
     "data": {
      "text/html": [
       "<div>\n",
       "<style scoped>\n",
       "    .dataframe tbody tr th:only-of-type {\n",
       "        vertical-align: middle;\n",
       "    }\n",
       "\n",
       "    .dataframe tbody tr th {\n",
       "        vertical-align: top;\n",
       "    }\n",
       "\n",
       "    .dataframe thead th {\n",
       "        text-align: right;\n",
       "    }\n",
       "</style>\n",
       "<table border=\"1\" class=\"dataframe\">\n",
       "  <thead>\n",
       "    <tr style=\"text-align: right;\">\n",
       "      <th></th>\n",
       "      <th>GDPC1</th>\n",
       "      <th>gdpc_us_yoy</th>\n",
       "    </tr>\n",
       "    <tr>\n",
       "      <th>DATE</th>\n",
       "      <th></th>\n",
       "      <th></th>\n",
       "    </tr>\n",
       "  </thead>\n",
       "  <tbody>\n",
       "    <tr>\n",
       "      <th>2022-10-01</th>\n",
       "      <td>21989.981</td>\n",
       "      <td>NaN</td>\n",
       "    </tr>\n",
       "    <tr>\n",
       "      <th>2023-01-01</th>\n",
       "      <td>22112.329</td>\n",
       "      <td>0.017179</td>\n",
       "    </tr>\n",
       "    <tr>\n",
       "      <th>2023-04-01</th>\n",
       "      <td>22225.350</td>\n",
       "      <td>0.023825</td>\n",
       "    </tr>\n",
       "    <tr>\n",
       "      <th>2023-07-01</th>\n",
       "      <td>22490.692</td>\n",
       "      <td>0.029269</td>\n",
       "    </tr>\n",
       "    <tr>\n",
       "      <th>2023-10-01</th>\n",
       "      <td>22679.255</td>\n",
       "      <td>0.031345</td>\n",
       "    </tr>\n",
       "  </tbody>\n",
       "</table>\n",
       "</div>"
      ],
      "text/plain": [
       "                GDPC1  gdpc_us_yoy\n",
       "DATE                              \n",
       "2022-10-01  21989.981          NaN\n",
       "2023-01-01  22112.329     0.017179\n",
       "2023-04-01  22225.350     0.023825\n",
       "2023-07-01  22490.692     0.029269\n",
       "2023-10-01  22679.255     0.031345"
      ]
     },
     "execution_count": 10,
     "metadata": {},
     "output_type": "execute_result"
    }
   ],
   "source": [
    "gdpc.tail()"
   ]
  },
  {
   "cell_type": "code",
   "execution_count": 11,
   "metadata": {},
   "outputs": [
    {
     "data": {
      "text/plain": [
       "2.5"
      ]
     },
     "execution_count": 11,
     "metadata": {},
     "output_type": "execute_result"
    }
   ],
   "source": [
    "round(gdpc[-4:].gdpc_us_yoy.mean() * 100, 1)"
   ]
  },
  {
   "cell_type": "markdown",
   "metadata": {},
   "source": [
    "---\n",
    "## **Question 2. [Macro] Inverse \"Treasury Yield\"**\n",
    "\n",
    "**Find the min value of (dgs10-dgs2) after since year 2000 (2000-01-01) and write it down as an answer, round to 1 digit after the decimal point.**  \n",
    "\n",
    "Download DGS2 and DGS10 interest rates series (https://fred.stlouisfed.org/series/DGS2, https://fred.stlouisfed.org/series/DGS10).  \n",
    "Join them together to one dataframe on date (you might need to read about pandas.DataFrame.join()), calculate the difference dgs10-dgs2 daily.  \n",
    "\n",
    "(Additional: think about what does the \"inverted yield curve\" mean for the market and investors?  \n",
    "Do you see the same thing in your country/market of interest?   \n",
    "Do you think it can be a good predictive feature for the models?)"
   ]
  },
  {
   "cell_type": "code",
   "execution_count": 12,
   "metadata": {},
   "outputs": [],
   "source": [
    "dgs2 = pdr.DataReader(\"DGS2\", \"fred\", start=\"2000-01-01\")"
   ]
  },
  {
   "cell_type": "code",
   "execution_count": 13,
   "metadata": {},
   "outputs": [],
   "source": [
    "dgs10 = pdr.DataReader(\"DGS10\", \"fred\", start=\"2000-01-01\")"
   ]
  },
  {
   "cell_type": "code",
   "execution_count": 15,
   "metadata": {},
   "outputs": [
    {
     "data": {
      "text/html": [
       "<div>\n",
       "<style scoped>\n",
       "    .dataframe tbody tr th:only-of-type {\n",
       "        vertical-align: middle;\n",
       "    }\n",
       "\n",
       "    .dataframe tbody tr th {\n",
       "        vertical-align: top;\n",
       "    }\n",
       "\n",
       "    .dataframe thead th {\n",
       "        text-align: right;\n",
       "    }\n",
       "</style>\n",
       "<table border=\"1\" class=\"dataframe\">\n",
       "  <thead>\n",
       "    <tr style=\"text-align: right;\">\n",
       "      <th></th>\n",
       "      <th>DGS2</th>\n",
       "    </tr>\n",
       "    <tr>\n",
       "      <th>DATE</th>\n",
       "      <th></th>\n",
       "    </tr>\n",
       "  </thead>\n",
       "  <tbody>\n",
       "    <tr>\n",
       "      <th>2024-04-17</th>\n",
       "      <td>4.93</td>\n",
       "    </tr>\n",
       "    <tr>\n",
       "      <th>2024-04-18</th>\n",
       "      <td>4.98</td>\n",
       "    </tr>\n",
       "    <tr>\n",
       "      <th>2024-04-19</th>\n",
       "      <td>4.97</td>\n",
       "    </tr>\n",
       "    <tr>\n",
       "      <th>2024-04-22</th>\n",
       "      <td>4.97</td>\n",
       "    </tr>\n",
       "    <tr>\n",
       "      <th>2024-04-23</th>\n",
       "      <td>4.86</td>\n",
       "    </tr>\n",
       "  </tbody>\n",
       "</table>\n",
       "</div>"
      ],
      "text/plain": [
       "            DGS2\n",
       "DATE            \n",
       "2024-04-17  4.93\n",
       "2024-04-18  4.98\n",
       "2024-04-19  4.97\n",
       "2024-04-22  4.97\n",
       "2024-04-23  4.86"
      ]
     },
     "execution_count": 15,
     "metadata": {},
     "output_type": "execute_result"
    }
   ],
   "source": [
    "dgs2.tail()"
   ]
  },
  {
   "cell_type": "code",
   "execution_count": 14,
   "metadata": {},
   "outputs": [
    {
     "data": {
      "text/html": [
       "<div>\n",
       "<style scoped>\n",
       "    .dataframe tbody tr th:only-of-type {\n",
       "        vertical-align: middle;\n",
       "    }\n",
       "\n",
       "    .dataframe tbody tr th {\n",
       "        vertical-align: top;\n",
       "    }\n",
       "\n",
       "    .dataframe thead th {\n",
       "        text-align: right;\n",
       "    }\n",
       "</style>\n",
       "<table border=\"1\" class=\"dataframe\">\n",
       "  <thead>\n",
       "    <tr style=\"text-align: right;\">\n",
       "      <th></th>\n",
       "      <th>DGS10</th>\n",
       "    </tr>\n",
       "    <tr>\n",
       "      <th>DATE</th>\n",
       "      <th></th>\n",
       "    </tr>\n",
       "  </thead>\n",
       "  <tbody>\n",
       "    <tr>\n",
       "      <th>2024-04-17</th>\n",
       "      <td>4.59</td>\n",
       "    </tr>\n",
       "    <tr>\n",
       "      <th>2024-04-18</th>\n",
       "      <td>4.64</td>\n",
       "    </tr>\n",
       "    <tr>\n",
       "      <th>2024-04-19</th>\n",
       "      <td>4.62</td>\n",
       "    </tr>\n",
       "    <tr>\n",
       "      <th>2024-04-22</th>\n",
       "      <td>4.62</td>\n",
       "    </tr>\n",
       "    <tr>\n",
       "      <th>2024-04-23</th>\n",
       "      <td>4.61</td>\n",
       "    </tr>\n",
       "  </tbody>\n",
       "</table>\n",
       "</div>"
      ],
      "text/plain": [
       "            DGS10\n",
       "DATE             \n",
       "2024-04-17   4.59\n",
       "2024-04-18   4.64\n",
       "2024-04-19   4.62\n",
       "2024-04-22   4.62\n",
       "2024-04-23   4.61"
      ]
     },
     "execution_count": 14,
     "metadata": {},
     "output_type": "execute_result"
    }
   ],
   "source": [
    "dgs10.tail()"
   ]
  },
  {
   "cell_type": "code",
   "execution_count": 16,
   "metadata": {},
   "outputs": [],
   "source": [
    "dgs_all = dgs2.join(dgs10, lsuffix='_dgs2', rsuffix='_dgs10')"
   ]
  },
  {
   "cell_type": "code",
   "execution_count": 17,
   "metadata": {},
   "outputs": [],
   "source": [
    "dgs_all[\"diff\"] = dgs_all.DGS10 - dgs_all.DGS2"
   ]
  },
  {
   "cell_type": "code",
   "execution_count": 18,
   "metadata": {},
   "outputs": [
    {
     "data": {
      "text/plain": [
       "-1.1"
      ]
     },
     "execution_count": 18,
     "metadata": {},
     "output_type": "execute_result"
    }
   ],
   "source": [
    "dgs_all[\"diff\"].min().round(1)"
   ]
  },
  {
   "cell_type": "markdown",
   "metadata": {},
   "source": [
    "---\n",
    "## **Question 3. [Index] Which Index is better recently?**  \n",
    "\n",
    "**Compare S&P 500 and IPC Mexico indexes by the 5 year growth and write down the largest value as an answer (%)**  \n",
    "\n",
    "Download on Yahoo Finance two daily index prices for S&P 500 (^GSPC, https://finance.yahoo.com/quote/%5EGSPC/) and IPC Mexico (^MXX, https://finance.yahoo.com/quote/%5EMXX/).   \n",
    "\n",
    "Compare 5Y growth for both (between 2019-04-09 and 2024-04-09).   \n",
    "Select the higher growing index and write down the growth in % (closest integer %).   \n",
    "E.g. if ratio end/start was 2.0925 (or growth of 109.25%), you need to write down 109 as your answer.  \n",
    "\n",
    "(Additional: think of other indexes and try to download stats and compare the growth? Do create 10Y and 20Y growth stats. What is an average yearly growth rate (CAGR) for each of the indexes you select?)"
   ]
  },
  {
   "cell_type": "code",
   "execution_count": 19,
   "metadata": {},
   "outputs": [
    {
     "name": "stderr",
     "output_type": "stream",
     "text": [
      "[*********************100%%**********************]  2 of 2 completed\n"
     ]
    }
   ],
   "source": [
    "sp500 = yf.download(tickers = [\"^GSPC\", \"^MXX\"],\n",
    "                     start = \"2019-04-09\",\n",
    "                     end = \"2024-04-10\",\n",
    "                     interval = \"1d\")"
   ]
  },
  {
   "cell_type": "markdown",
   "metadata": {},
   "source": [
    "---\n",
    "## **Question 4. [Stocks OHLCV] 52-weeks range ratio (2023) for the selected stocks**  \n",
    "\n",
    "\n",
    "**Find the largest range ratio [=(max-min)/max] of Adj.Close prices in 2023**  \n",
    "\n",
    "\n",
    "Download the 2023 daily OHLCV data on Yahoo Finance for top6 stocks on earnings (https://companiesmarketcap.com/most-profitable-companies/):   \n",
    "2222.SR,BRK-B, AAPL, MSFT, GOOG, JPM.\n",
    "\n",
    "Here is the example data you should see in Pandas for \"2222.SR\": https://finance.yahoo.com/quote/2222.SR/history  \n",
    "\n",
    "Calculate maximum-minimim \"Adj.Close\" price for each stock and divide it by the maximum \"Adj.Close\" value.  \n",
    "Round the result to two decimal places (e.g. 0.1575 will be 0.16)  \n",
    "\n",
    "(Additional: why this may be important for your research?)"
   ]
  },
  {
   "cell_type": "code",
   "execution_count": 20,
   "metadata": {},
   "outputs": [
    {
     "data": {
      "text/plain": [
       "Ticker\n",
       "^GSPC    0.810128\n",
       "^MXX     0.275062\n",
       "dtype: float64"
      ]
     },
     "execution_count": 20,
     "metadata": {},
     "output_type": "execute_result"
    }
   ],
   "source": [
    "sp500.loc[\"2024-04-09\"][\"Adj Close\"] / sp500.loc[\"2019-04-09\"][\"Close\"] - 1"
   ]
  },
  {
   "cell_type": "code",
   "execution_count": 21,
   "metadata": {},
   "outputs": [
    {
     "name": "stderr",
     "output_type": "stream",
     "text": [
      "[*********************100%%**********************]  6 of 6 completed\n"
     ]
    }
   ],
   "source": [
    "top_stocks = yf.download(tickers = [\"2222.SR\" ,\"BRK-B\" ,\"AAPL\" ,\"MSFT\" ,\"GOOG\" ,\"JPM\"],\n",
    "                     start = \"2023-01-01\",\n",
    "                     end = \"2024-01-01\",\n",
    "                     interval = \"1d\")"
   ]
  },
  {
   "cell_type": "code",
   "execution_count": 28,
   "metadata": {},
   "outputs": [
    {
     "data": {
      "text/plain": [
       "Ticker\n",
       "BRK-B      0.21\n",
       "2222.SR    0.21\n",
       "JPM        0.28\n",
       "AAPL       0.37\n",
       "GOOG       0.39\n",
       "MSFT       0.42\n",
       "dtype: float64"
      ]
     },
     "execution_count": 28,
     "metadata": {},
     "output_type": "execute_result"
    }
   ],
   "source": [
    "# max(\n",
    "((top_stocks[\"Adj Close\"].max() - top_stocks[\"Adj Close\"].min()) / top_stocks[\"Adj Close\"].max()).sort_values().round(2)\n",
    "#)"
   ]
  },
  {
   "cell_type": "code",
   "execution_count": 33,
   "metadata": {},
   "outputs": [
    {
     "data": {
      "text/plain": [
       "0.42"
      ]
     },
     "execution_count": 33,
     "metadata": {},
     "output_type": "execute_result"
    }
   ],
   "source": [
    "max(\n",
    "((top_stocks[\"Adj Close\"].max() - top_stocks[\"Adj Close\"].min()) / top_stocks[\"Adj Close\"].max()).sort_values().round(2)\n",
    ")"
   ]
  },
  {
   "cell_type": "markdown",
   "metadata": {},
   "source": [
    "---\n",
    "## Question 5. [Stocks] Dividend Yield  \n",
    "**Find the largest dividend yield for the same set of stocks**  \n",
    "\n",
    "Use the same list of companies (2222.SR,BRK-B, AAPL, MSFT, GOOG, JPM) and download all dividends paid in 2023.  \n",
    "You can use `get_actions()` method or `.dividends` field in yfinance library (https://github.com/ranaroussi/yfinance?tab=readme-ov-file#quick-start)  \n",
    "\n",
    "Sum up all dividends paid in 2023 per company and divide each value by the closing price (Adj.Close) at the last trading day of the year.  \n",
    "\n",
    "Find the maximum value in % and round to 1 digit after the decimal point.   \n",
    "(E.g., if you obtained $1.25 dividends paid and the end year stock price is $100, the dividend yield is 1.25% -- and your answer should be equal to 1.3)"
   ]
  },
  {
   "cell_type": "code",
   "execution_count": 48,
   "metadata": {},
   "outputs": [],
   "source": [
    "tickers = yf.Tickers([\"2222.SR\" ,\"BRK-B\" ,\"AAPL\" ,\"MSFT\" ,\"GOOG\" ,\"JPM\"])"
   ]
  },
  {
   "cell_type": "code",
   "execution_count": 54,
   "metadata": {},
   "outputs": [
    {
     "name": "stderr",
     "output_type": "stream",
     "text": [
      "[*********************100%%**********************]  1 of 1 completed\n",
      "[*********************100%%**********************]  1 of 1 completed\n",
      "[*********************100%%**********************]  1 of 1 completed\n",
      "[*********************100%%**********************]  1 of 1 completed\n",
      "[*********************100%%**********************]  1 of 1 completed\n",
      "[*********************100%%**********************]  1 of 1 completed"
     ]
    },
    {
     "name": "stdout",
     "output_type": "stream",
     "text": [
      "2.8\n"
     ]
    },
    {
     "name": "stderr",
     "output_type": "stream",
     "text": [
      "\n"
     ]
    }
   ],
   "source": [
    "# tickers = yf.Tickers('2222.SR JPM GOOG MSFT AAPL BRK-B')\n",
    "\n",
    "tickers = ['2222.SR', 'BRK-B', 'AAPL', 'MSFT', 'GOOG', 'JPM']\n",
    "\n",
    "dividends_paid = {}\n",
    "for tick in tickers:\n",
    "    tick_info = yf.Ticker(tick)\n",
    "    dividends = tick_info.dividends\n",
    "    dividends_2023 = dividends.loc['2023']\n",
    "    total_dividends = dividends_2023.sum()\n",
    "    dividends_paid[tick] = total_dividends\n",
    "\n",
    "\n",
    "closing_prices = {}\n",
    "for tick in tickers:\n",
    "    tick_data = yf.download(tick, end='2023-12-31')\n",
    "    closing_prices[tick] = tick_data.loc[:,'Adj Close'].iloc[-1]\n",
    "\n",
    "\n",
    "dividend_yield = {}\n",
    "for tick in tickers:\n",
    "    if closing_prices[tick] != 0: \n",
    "        dividend_yield[tick] = (dividends_paid[tick] / closing_prices[tick]) * 100\n",
    "    else:\n",
    "        dividend_yield[tick] = 0\n",
    "\n",
    "print(round(max(dividend_yield.values()), 1))"
   ]
  },
  {
   "cell_type": "markdown",
   "metadata": {},
   "source": [
    "---\n",
    "## **Question 6. [Exploratory] Investigate new metrics**  \n",
    "\n",
    "**Free text answer**  \n",
    "\n",
    "Download and explore a few additional metrics or time series that might be valuable for your project and write down why (briefly)."
   ]
  },
  {
   "cell_type": "markdown",
   "metadata": {},
   "source": [
    "For enhancing the analytical depth of the project focused on time-driven strategies around earnings releases, several additional metrics or time series could provide valuable insights:\n",
    "\n",
    "\n",
    "**Price-Earnings Ratio (P/E Ratio):**  \n",
    "- The P/E ratio compares a company's current share price to its earnings per share (EPS).   \n",
    "  It helps investors gauge whether a stock is undervalued or overvalued relative to its earnings.  \n",
    "- By including P/E ratio data, we can analyze how the market perceives a company's earnings potential and \n",
    "  assess whether there's room for further price appreciation or  correction.  \n",
    "\n",
    "<br>\n",
    "\n",
    "**Volatility Metrics (e.g., Historical Volatility, Implied Volatility):**\n",
    "- Volatility measures the degree of variation in a stock's price over time.   \n",
    "  Historical volatility reflects past price movements, while implied volatility represents market expectations of future volatility.\n",
    "- Including volatility metrics allows us to assess the level of risk associated with a stock leading up to its earnings release.   \n",
    "  High volatility may indicate uncertainty or anticipation of significant price movements, presenting both opportunities and risks for traders.\n",
    "\n",
    "<br>\n",
    "\n",
    "**Relative Strength Index (RSI):**\n",
    "- The RSI is a momentum oscillator that measures the speed and change of price movements.   \n",
    "  It oscillates between 0 and 100 and is used to identify overbought or oversold conditions in a stock.\n",
    "- Incorporating RSI data can help traders gauge the momentum behind a stock's price movement ahead of its earnings release.   \n",
    "  A high RSI reading may suggest that a stock is overbought and due for a pullback, while a low RSI reading may indicate oversold conditions.\n",
    "\n",
    "<br>\n",
    "\n",
    "**Volume Metrics (e.g., Volume Oscillator, Volume Profile):**\n",
    "- Volume measures the number of shares traded during a given period. Volume indicators provide insights into the level of market participation and the strength of price movements.\n",
    "- Including volume metrics allows us to assess the level of investor interest and confidence leading up to an earnings release. High trading volume accompanying price movements may signal increased market conviction, while low volume may indicate lackluster interest or indecision.\n",
    "\n",
    "<br>\n",
    "\n",
    "**Analyst Recommendations and Sentiment Analysis:**\n",
    "- Analyst recommendations and sentiment analysis provide insights into market sentiment and consensus views on a stock.\n",
    "- Integrating data on analyst recommendations and sentiment analysis allows us to gauge market sentiment leading up to an earnings release.   \n",
    "  Positive sentiment and bullish analyst recommendations may bolster investor confidence, while negative sentiment could signal caution or pessimism.\n",
    "\n",
    "<br>\n",
    "\n",
    "**Free cash flow**\n",
    "- Purpose: Indicates business’s financial health and help to track progress, money that is left over after a business pays its operating expenses (OpEx)\n",
    "- Sources: Cash flow statement, Balance sheet"
   ]
  },
  {
   "cell_type": "code",
   "execution_count": 41,
   "metadata": {},
   "outputs": [
    {
     "data": {
      "text/plain": [
       "<Axes: title={'center': 'TSLA -  Free Cash Flow [2020 -2023]'}>"
      ]
     },
     "execution_count": 41,
     "metadata": {},
     "output_type": "execute_result"
    },
    {
     "data": {
      "image/png": "[encoded data removed]",
      "text/plain": [
       "<Figure size 640x480 with 1 Axes>"
      ]
     },
     "metadata": {},
     "output_type": "display_data"
    }
   ],
   "source": [
    "# ticker\n",
    "ticker = \"TSLA\"\n",
    "\n",
    "# ticker data\n",
    "stock_symbol = yf.Ticker(ticker)\n",
    "\n",
    "fcf = stock_symbol.cashflow.iloc[0]\n",
    "\n",
    "# Plot cash flow\n",
    "fcf.plot(title=f\"{ticker} -  Free Cash Flow [2020 -2023]\")"
   ]
  },
  {
   "cell_type": "markdown",
   "metadata": {},
   "source": [
    "**_FCF : one of the indicators most frequently monitored by business people, banks, investors and other analysts_**"
   ]
  },
  {
   "cell_type": "markdown",
   "metadata": {},
   "source": [
    "---\n",
    "## **Question 7. [Exploratory] Time-driven strategy description around earnings releases**  \n",
    "\n",
    "**Free text answer**\n",
    "\n",
    "Explore earning dates for the whole month of April - e.g. using YahooFinance earnings calendar (https://finance.yahoo.com/calendar/earnings?from=2024-04-21&to=2024-04-27&day=2024-04-23).   \n",
    "\n",
    "Compare with the previous closed earnings (e.g., recent dates with full data https://finance.yahoo.com/calendar/earnings?from=2024-04-07&to=2024-04-13&day=2024-04-08).   \n",
    "\n",
    "Describe an analytical strategy/idea (you're not required to implement it) to select a subset companies of interest based on the future events data."
   ]
  },
  {
   "cell_type": "markdown",
   "metadata": {},
   "source": [
    "One potential analytical strategy to select a subset of companies of interest based on future earnings events data involves a combination of quantitative and qualitative analysis.  \n",
    "\n",
    "\n",
    "- **Quantitative Filtering/Screening:**  \n",
    "Start by filtering companies based on certain quantitative criteria such as market capitalization, revenue growth, earnings per share (EPS) growth, and historical stock price performance.  \n",
    "Utilize financial screening tools or platforms to quickly identify companies that meet these criteria.   \n",
    "Tools like Yahoo Finance, Finviz, or Stock Screener on investing.com can be helpful.  \n",
    "\n",
    "<br>\n",
    "\n",
    "- **Historical Earnings Performance Analysis:**  \n",
    "Examine the historical earnings performance of companies over the past several quarters or years.   \n",
    "Look for patterns such as consistent earnings beats, growth trends, or improving margins.  \n",
    "Identify companies with a track record of meeting or exceeding earnings expectations as they may indicate strong underlying fundamentals and management performance.  \n",
    "\n",
    "<br>\n",
    "\n",
    "- **Sector and Industry Analysis:**  \n",
    "Analyze the broader sector and industry trends to identify sectors or industries that are expected to perform well in the upcoming earnings season.  \n",
    "Consider macroeconomic factors, industry-specific events, regulatory changes, and competitive landscape dynamics that could impact sector and industry performance.  \n",
    "\n",
    "<br>\n",
    "\n",
    "- **Event-driven Analysis:**  \n",
    "Pay attention to any specific events or catalysts that could influence the earnings performance of companies in the upcoming quarter.   \n",
    "This could include product launches, regulatory approvals, mergers and acquisitions, or management changes.  \n",
    "Evaluate how these events might impact revenue, expenses, margins, and overall profitability.  \n",
    "\n",
    "<br>\n",
    "\n",
    "- **Risk Assessment:**  \n",
    "Assess the risk factors associated with each company including financial leverage, liquidity position, competitive threats, and industry-specific risks.  \n",
    "Use risk management tools and techniques such as scenario analysis, sensitivity analysis, or stress testing to quantify and mitigate risks.  \n",
    "\n",
    "<br>\n",
    "\n",
    "- **Qualitative Analysis:**  \n",
    "Conduct qualitative analysis by reviewing company presentations, analyst reports, management interviews, and industry publications.  \n",
    "Evaluate factors such as corporate governance practices, innovation capabilities, customer satisfaction, and brand reputation.  \n",
    "\n",
    "<br>\n",
    "\n",
    "- **Portfolio Optimization:**  \n",
    "Once you have identified a subset of companies of interest, construct a diversified portfolio that balances risk and return objectives.  \n",
    "Consider factors such as correlation, volatility, and beta when optimizing the portfolio allocation.  \n",
    "\n",
    "<br>\n",
    "\n",
    "By combining these analytical approaches, investors can effectively select a subset of companies with the potential to outperform in the upcoming earnings season.   \n",
    "However, it's important to note that this strategy requires continuous monitoring and adjustment based on new information and changing market conditions."
   ]
  },
  {
   "cell_type": "markdown",
   "metadata": {},
   "source": []
  }
 ],
 "metadata": {
  "kernelspec": {
   "display_name": "Python 3",
   "language": "python",
   "name": "python3"
  },
  "language_info": {
   "codemirror_mode": {
    "name": "ipython",
    "version": 3
   },
   "file_extension": ".py",
   "mimetype": "text/x-python",
   "name": "python",
   "nbconvert_exporter": "python",
   "pygments_lexer": "ipython3",
   "version": "3.10.13"
  }
 },
 "nbformat": 4,
 "nbformat_minor": 2
}
